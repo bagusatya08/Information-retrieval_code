{
 "cells": [
  {
   "cell_type": "markdown",
   "id": "04584e12-1171-4f96-a1e3-b01a25df59f7",
   "metadata": {},
   "source": [
    "### About Project\n",
    "This project devided into **three notebooks** that explained the usage of TF-IDF using **English.** The process flow of this project start from data collection (corpus) to pre-processing and algorithm fitting, the detailed steps explained below:\n",
    "1. **Data Collection (self-produce)**\n",
    "2. **Text Pre-Processing (Case Folding, Punctuation Removal, Tokenizing,Stop-Words Removal, Stemming)**\n",
    "3. **TF-IDF Algorithm & VSM Implementation**\n",
    "4. **Boolean Retrieval Algorithm Implementation**"
   ]
  },
  {
   "cell_type": "markdown",
   "id": "749d1fc5-5bc8-4f96-b375-6018b7f782f4",
   "metadata": {
    "tags": []
   },
   "source": [
    "#### The Notebook Divided into three sub-process:\n",
    "1. text-preprocessing-english.ipynb\n",
    "2. implementation-tf-idf-and-vsm.ipynb\n",
    "3. implementation-boolean.ipynb"
   ]
  },
  {
   "cell_type": "markdown",
   "id": "2172384d-45f9-4a61-8e71-ce12d8654cde",
   "metadata": {
    "tags": []
   },
   "source": [
    "## Boolean Information Retrieval\n",
    "Boolean Information Retrieval is a foundational model in information retrieval that uses Boolean logic to match documents against a user’s query. It relies on the principles of Boolean algebra, using logical operators to define the relationships between terms.\n",
    "\n",
    "- **Boolean Operators**: The primary Boolean operators are AND, OR, and NOT. These operators are used to combine or exclude terms in a query:\n",
    "\n",
    "> **AND: All terms must be present in the document.**\n",
    "> \n",
    "> For example, the query \"cats AND dogs\" will retrieve documents containing both \"cats\" and \"dogs\".\n",
    "\n",
    "\n",
    "> **OR: At least one of the terms must be present in the document.**\n",
    "> \n",
    "> For example, the query \"cats OR dogs\" will retrieve documents containing either \"cats\" or \"dogs\" or both.\n",
    "\n",
    "\n",
    "> **NOT: Excludes documents containing the term.**\n",
    "> \n",
    "> For example, the query \"cats NOT dogs\" will retrieve documents containing \"cats\" but not \"dogs\".\n",
    "\n",
    "- **Query Formulation**: Users formulate queries using Boolean operators to express their information needs precisely. This method allows for complex and highly specific queries.\n",
    "\n",
    "- **Document Representation**: Documents are typically represented as sets of terms. The presence or absence of terms in a document is used to determine if the document matches the query.\n",
    "\n",
    "Boolean Information Retrieval provides a straightforward and powerful way to perform text searches, especially in structured databases and for well-defined queries. Despite its simplicity, it forms the basis for more advanced retrieval models and remains an important tool in the field of information retrieval."
   ]
  },
  {
   "cell_type": "markdown",
   "id": "3c3830f0-164d-4839-9682-9f05ca6db838",
   "metadata": {
    "id": "9MsVvRo3LQtO"
   },
   "source": [
    "## Library Initialization"
   ]
  },
  {
   "cell_type": "code",
   "execution_count": 1,
   "id": "2e3dac22-4544-4d7e-957e-8a9742ba6ea6",
   "metadata": {
    "id": "vaTjE7WVJ9Yg",
    "tags": []
   },
   "outputs": [],
   "source": [
    "import numpy as np\n",
    "import pandas as pd\n",
    "import regex as re\n",
    "\n",
    "import nltk\n",
    "from nltk.corpus import stopwords\n",
    "from nltk.stem import PorterStemmer\n",
    "from nltk.tokenize import word_tokenize"
   ]
  },
  {
   "cell_type": "code",
   "execution_count": 2,
   "id": "81719ff2-00c1-4dfd-bf7c-cc60e2346dd7",
   "metadata": {},
   "outputs": [
    {
     "name": "stderr",
     "output_type": "stream",
     "text": [
      "[nltk_data] Downloading package punkt to\n",
      "[nltk_data]     /Users/bagussatya/nltk_data...\n",
      "[nltk_data]   Package punkt is already up-to-date!\n",
      "[nltk_data] Downloading package stopwords to\n",
      "[nltk_data]     /Users/bagussatya/nltk_data...\n",
      "[nltk_data]   Package stopwords is already up-to-date!\n"
     ]
    },
    {
     "data": {
      "text/plain": [
       "True"
      ]
     },
     "execution_count": 2,
     "metadata": {},
     "output_type": "execute_result"
    }
   ],
   "source": [
    "nltk.download('punkt')\n",
    "nltk.download('stopwords')"
   ]
  },
  {
   "cell_type": "markdown",
   "id": "89555b4b-427a-4b8a-9d5e-8228137ab667",
   "metadata": {
    "id": "7WRDPr7sLGSO",
    "tags": []
   },
   "source": [
    "## Importing Dataset for English"
   ]
  },
  {
   "cell_type": "code",
   "execution_count": 3,
   "id": "9615d29a-7379-41b0-b783-fa8bc0c70b1f",
   "metadata": {},
   "outputs": [],
   "source": [
    "def preprocess(t):\n",
    "  clean_text = []\n",
    "  stemmer = PorterStemmer()\n",
    "  clean = re.sub(r'[^\\w\\s]', '', t.lower())\n",
    "  clean = re.sub(r'\\d+', '', clean)\n",
    "  tokens = word_tokenize(clean)\n",
    "  stemmed_tokens = [stemmer.stem(token) for token in tokens]\n",
    "  clean_text.append(' '.join(stemmed_tokens))\n",
    "\n",
    "  return clean_text"
   ]
  },
  {
   "cell_type": "markdown",
   "id": "6ac7638c-618c-41e8-a5d9-2b6d1c99f91b",
   "metadata": {
    "id": "7WRDPr7sLGSO",
    "tags": []
   },
   "source": [
    "### Importing Cleaned Corpus"
   ]
  },
  {
   "cell_type": "code",
   "execution_count": 4,
   "id": "ac60a6a3-32ce-4c3b-a8cb-ba58e09fe967",
   "metadata": {
    "colab": {
     "base_uri": "https://localhost:8080/",
     "height": 745
    },
    "id": "asgylMmTJ9md",
    "outputId": "5f1f6ff6-a460-4392-fc53-2e28417569ea",
    "scrolled": true,
    "tags": []
   },
   "outputs": [
    {
     "data": {
      "text/html": [
       "<div>\n",
       "<style scoped>\n",
       "    .dataframe tbody tr th:only-of-type {\n",
       "        vertical-align: middle;\n",
       "    }\n",
       "\n",
       "    .dataframe tbody tr th {\n",
       "        vertical-align: top;\n",
       "    }\n",
       "\n",
       "    .dataframe thead th {\n",
       "        text-align: right;\n",
       "    }\n",
       "</style>\n",
       "<table border=\"1\" class=\"dataframe\">\n",
       "  <thead>\n",
       "    <tr style=\"text-align: right;\">\n",
       "      <th></th>\n",
       "      <th>teks</th>\n",
       "    </tr>\n",
       "  </thead>\n",
       "  <tbody>\n",
       "    <tr>\n",
       "      <th>0</th>\n",
       "      <td>call bird habit</td>\n",
       "    </tr>\n",
       "    <tr>\n",
       "      <th>1</th>\n",
       "      <td>brother like bird month father gave black bird</td>\n",
       "    </tr>\n",
       "    <tr>\n",
       "      <th>2</th>\n",
       "      <td>antoni bird lost</td>\n",
       "    </tr>\n",
       "    <tr>\n",
       "      <th>3</th>\n",
       "      <td>greedi characterist hate</td>\n",
       "    </tr>\n",
       "  </tbody>\n",
       "</table>\n",
       "</div>"
      ],
      "text/plain": [
       "                                             teks\n",
       "0                                 call bird habit\n",
       "1  brother like bird month father gave black bird\n",
       "2                                antoni bird lost\n",
       "3                        greedi characterist hate"
      ]
     },
     "execution_count": 4,
     "metadata": {},
     "output_type": "execute_result"
    }
   ],
   "source": [
    "pd.set_option('display.max_columns', None)\n",
    "pd.set_option('display.expand_frame_repr', False)\n",
    "pd.set_option('display.max_colwidth', 1000)\n",
    "\n",
    "dataset = pd.read_csv(\"clean-corpus-inggris.csv\")\n",
    "dataset"
   ]
  },
  {
   "cell_type": "markdown",
   "id": "63aa4164-52e8-49c2-bc63-24587461cd1b",
   "metadata": {},
   "source": [
    "### Importing Un-Preprocessed Corpus"
   ]
  },
  {
   "cell_type": "code",
   "execution_count": 5,
   "id": "129e4399-2cf8-48fc-9459-ed009ab3f4f1",
   "metadata": {
    "scrolled": true,
    "tags": []
   },
   "outputs": [
    {
     "data": {
      "text/html": [
       "<div>\n",
       "<style scoped>\n",
       "    .dataframe tbody tr th:only-of-type {\n",
       "        vertical-align: middle;\n",
       "    }\n",
       "\n",
       "    .dataframe tbody tr th {\n",
       "        vertical-align: top;\n",
       "    }\n",
       "\n",
       "    .dataframe thead th {\n",
       "        text-align: right;\n",
       "    }\n",
       "</style>\n",
       "<table border=\"1\" class=\"dataframe\">\n",
       "  <thead>\n",
       "    <tr style=\"text-align: right;\">\n",
       "      <th></th>\n",
       "      <th>id</th>\n",
       "      <th>text</th>\n",
       "      <th>topic</th>\n",
       "    </tr>\n",
       "  </thead>\n",
       "  <tbody>\n",
       "    <tr>\n",
       "      <th>0</th>\n",
       "      <td>ENG1</td>\n",
       "      <td>They called him a bird, because of his habit</td>\n",
       "      <td>bird</td>\n",
       "    </tr>\n",
       "    <tr>\n",
       "      <th>1</th>\n",
       "      <td>ENG2</td>\n",
       "      <td>My brother likes bird and after a month my father gave him a black bird</td>\n",
       "      <td>bird</td>\n",
       "    </tr>\n",
       "    <tr>\n",
       "      <th>2</th>\n",
       "      <td>ENG3</td>\n",
       "      <td>Antony has a bird and he lost it</td>\n",
       "      <td>bird</td>\n",
       "    </tr>\n",
       "    <tr>\n",
       "      <th>3</th>\n",
       "      <td>ENG4</td>\n",
       "      <td>Greedy is the most characteristic that I hate</td>\n",
       "      <td>hate</td>\n",
       "    </tr>\n",
       "  </tbody>\n",
       "</table>\n",
       "</div>"
      ],
      "text/plain": [
       "     id                                                                     text topic\n",
       "0  ENG1                             They called him a bird, because of his habit  bird\n",
       "1  ENG2  My brother likes bird and after a month my father gave him a black bird  bird\n",
       "2  ENG3                                         Antony has a bird and he lost it  bird\n",
       "3  ENG4                            Greedy is the most characteristic that I hate  hate"
      ]
     },
     "execution_count": 5,
     "metadata": {},
     "output_type": "execute_result"
    }
   ],
   "source": [
    "validate = pd.read_csv(\"corpus-inggris.csv\").head(4)\n",
    "validate"
   ]
  },
  {
   "cell_type": "markdown",
   "id": "66c24bfa-9165-4ce0-aa5e-441e699214ac",
   "metadata": {},
   "source": [
    "### Corpus Preparations"
   ]
  },
  {
   "cell_type": "code",
   "execution_count": 6,
   "id": "a8db0bb2-7970-414a-b5c9-b50434e8e1ac",
   "metadata": {
    "scrolled": true,
    "tags": []
   },
   "outputs": [
    {
     "data": {
      "text/plain": [
       "['call bird habit',\n",
       " 'brother like bird month father gave black bird',\n",
       " 'antoni bird lost',\n",
       " 'greedi characterist hate']"
      ]
     },
     "execution_count": 6,
     "metadata": {},
     "output_type": "execute_result"
    }
   ],
   "source": [
    "corpus = dataset.teks.tolist()\n",
    "corpus"
   ]
  },
  {
   "cell_type": "markdown",
   "id": "d48be41d-1438-47da-b586-f356f7188547",
   "metadata": {},
   "source": [
    "#### Looking to display the unique words"
   ]
  },
  {
   "cell_type": "code",
   "execution_count": 7,
   "id": "de3b1e9b-da9e-4fc2-b985-2e2c191bc0cd",
   "metadata": {},
   "outputs": [
    {
     "data": {
      "text/plain": [
       "{'antoni',\n",
       " 'bird',\n",
       " 'black',\n",
       " 'brother',\n",
       " 'call',\n",
       " 'characterist',\n",
       " 'father',\n",
       " 'gave',\n",
       " 'greedi',\n",
       " 'habit',\n",
       " 'hate',\n",
       " 'like',\n",
       " 'lost',\n",
       " 'month'}"
      ]
     },
     "execution_count": 7,
     "metadata": {},
     "output_type": "execute_result"
    }
   ],
   "source": [
    "unique_words = set()\n",
    "for sentence in corpus:\n",
    "    words = sentence.split()\n",
    "    unique_words.update(words)\n",
    "unique_words"
   ]
  },
  {
   "cell_type": "markdown",
   "id": "bf1d2300-1cb0-4c16-a622-f042d8813ffc",
   "metadata": {},
   "source": [
    "### TF (Term Frequency)"
   ]
  },
  {
   "cell_type": "code",
   "execution_count": 8,
   "id": "a05b445d-489b-405d-8c99-22a3378153b6",
   "metadata": {},
   "outputs": [],
   "source": [
    "def tf(text):\n",
    "    word_count_per_document = {}\n",
    "\n",
    "    for i, sentence in enumerate(text, start=0):\n",
    "        words = sentence.split()\n",
    "        for word in words:\n",
    "            if word in word_count_per_document:\n",
    "                if i in word_count_per_document[word]:\n",
    "                    word_count_per_document[word][i] += 1\n",
    "                else:\n",
    "                    word_count_per_document[word][i] = 1\n",
    "            else:\n",
    "                word_count_per_document[word] = {i: 1}\n",
    "\n",
    "    df_term_frequency = pd.DataFrame(word_count_per_document)\n",
    "    df_term_frequency.fillna(0, inplace=True)\n",
    "    return df_term_frequency.T"
   ]
  },
  {
   "cell_type": "markdown",
   "id": "4384b2b9-01a1-4d64-8702-be9aff71aa6a",
   "metadata": {},
   "source": [
    "#### Searching for the document term frequency"
   ]
  },
  {
   "cell_type": "code",
   "execution_count": 9,
   "id": "05142a00-0ad8-4e07-af05-380a524bdc07",
   "metadata": {
    "scrolled": true
   },
   "outputs": [
    {
     "data": {
      "text/html": [
       "<div>\n",
       "<style scoped>\n",
       "    .dataframe tbody tr th:only-of-type {\n",
       "        vertical-align: middle;\n",
       "    }\n",
       "\n",
       "    .dataframe tbody tr th {\n",
       "        vertical-align: top;\n",
       "    }\n",
       "\n",
       "    .dataframe thead th {\n",
       "        text-align: right;\n",
       "    }\n",
       "</style>\n",
       "<table border=\"1\" class=\"dataframe\">\n",
       "  <thead>\n",
       "    <tr style=\"text-align: right;\">\n",
       "      <th></th>\n",
       "      <th>0</th>\n",
       "      <th>1</th>\n",
       "      <th>2</th>\n",
       "      <th>3</th>\n",
       "    </tr>\n",
       "  </thead>\n",
       "  <tbody>\n",
       "    <tr>\n",
       "      <th>call</th>\n",
       "      <td>1.0</td>\n",
       "      <td>0.0</td>\n",
       "      <td>0.0</td>\n",
       "      <td>0.0</td>\n",
       "    </tr>\n",
       "    <tr>\n",
       "      <th>bird</th>\n",
       "      <td>1.0</td>\n",
       "      <td>2.0</td>\n",
       "      <td>1.0</td>\n",
       "      <td>0.0</td>\n",
       "    </tr>\n",
       "    <tr>\n",
       "      <th>habit</th>\n",
       "      <td>1.0</td>\n",
       "      <td>0.0</td>\n",
       "      <td>0.0</td>\n",
       "      <td>0.0</td>\n",
       "    </tr>\n",
       "    <tr>\n",
       "      <th>brother</th>\n",
       "      <td>0.0</td>\n",
       "      <td>1.0</td>\n",
       "      <td>0.0</td>\n",
       "      <td>0.0</td>\n",
       "    </tr>\n",
       "    <tr>\n",
       "      <th>like</th>\n",
       "      <td>0.0</td>\n",
       "      <td>1.0</td>\n",
       "      <td>0.0</td>\n",
       "      <td>0.0</td>\n",
       "    </tr>\n",
       "    <tr>\n",
       "      <th>month</th>\n",
       "      <td>0.0</td>\n",
       "      <td>1.0</td>\n",
       "      <td>0.0</td>\n",
       "      <td>0.0</td>\n",
       "    </tr>\n",
       "    <tr>\n",
       "      <th>father</th>\n",
       "      <td>0.0</td>\n",
       "      <td>1.0</td>\n",
       "      <td>0.0</td>\n",
       "      <td>0.0</td>\n",
       "    </tr>\n",
       "    <tr>\n",
       "      <th>gave</th>\n",
       "      <td>0.0</td>\n",
       "      <td>1.0</td>\n",
       "      <td>0.0</td>\n",
       "      <td>0.0</td>\n",
       "    </tr>\n",
       "    <tr>\n",
       "      <th>black</th>\n",
       "      <td>0.0</td>\n",
       "      <td>1.0</td>\n",
       "      <td>0.0</td>\n",
       "      <td>0.0</td>\n",
       "    </tr>\n",
       "    <tr>\n",
       "      <th>antoni</th>\n",
       "      <td>0.0</td>\n",
       "      <td>0.0</td>\n",
       "      <td>1.0</td>\n",
       "      <td>0.0</td>\n",
       "    </tr>\n",
       "    <tr>\n",
       "      <th>lost</th>\n",
       "      <td>0.0</td>\n",
       "      <td>0.0</td>\n",
       "      <td>1.0</td>\n",
       "      <td>0.0</td>\n",
       "    </tr>\n",
       "    <tr>\n",
       "      <th>greedi</th>\n",
       "      <td>0.0</td>\n",
       "      <td>0.0</td>\n",
       "      <td>0.0</td>\n",
       "      <td>1.0</td>\n",
       "    </tr>\n",
       "    <tr>\n",
       "      <th>characterist</th>\n",
       "      <td>0.0</td>\n",
       "      <td>0.0</td>\n",
       "      <td>0.0</td>\n",
       "      <td>1.0</td>\n",
       "    </tr>\n",
       "    <tr>\n",
       "      <th>hate</th>\n",
       "      <td>0.0</td>\n",
       "      <td>0.0</td>\n",
       "      <td>0.0</td>\n",
       "      <td>1.0</td>\n",
       "    </tr>\n",
       "  </tbody>\n",
       "</table>\n",
       "</div>"
      ],
      "text/plain": [
       "                0    1    2    3\n",
       "call          1.0  0.0  0.0  0.0\n",
       "bird          1.0  2.0  1.0  0.0\n",
       "habit         1.0  0.0  0.0  0.0\n",
       "brother       0.0  1.0  0.0  0.0\n",
       "like          0.0  1.0  0.0  0.0\n",
       "month         0.0  1.0  0.0  0.0\n",
       "father        0.0  1.0  0.0  0.0\n",
       "gave          0.0  1.0  0.0  0.0\n",
       "black         0.0  1.0  0.0  0.0\n",
       "antoni        0.0  0.0  1.0  0.0\n",
       "lost          0.0  0.0  1.0  0.0\n",
       "greedi        0.0  0.0  0.0  1.0\n",
       "characterist  0.0  0.0  0.0  1.0\n",
       "hate          0.0  0.0  0.0  1.0"
      ]
     },
     "execution_count": 9,
     "metadata": {},
     "output_type": "execute_result"
    }
   ],
   "source": [
    "tf_document= tf(corpus).T.sort_index().T\n",
    "tf_document"
   ]
  },
  {
   "cell_type": "markdown",
   "id": "3a312c6a-ee2c-40ed-89e9-e091910f5dd2",
   "metadata": {},
   "source": [
    "#### Transforming the Frequency into only 1 and 0\n",
    "p.s. This process done to eliminate the frequency so that it only shows \"available\" or \"not available\""
   ]
  },
  {
   "cell_type": "code",
   "execution_count": 10,
   "id": "5b01de78-7cd9-435d-8e90-9204b320c7a4",
   "metadata": {},
   "outputs": [
    {
     "data": {
      "text/html": [
       "<div>\n",
       "<style scoped>\n",
       "    .dataframe tbody tr th:only-of-type {\n",
       "        vertical-align: middle;\n",
       "    }\n",
       "\n",
       "    .dataframe tbody tr th {\n",
       "        vertical-align: top;\n",
       "    }\n",
       "\n",
       "    .dataframe thead th {\n",
       "        text-align: right;\n",
       "    }\n",
       "</style>\n",
       "<table border=\"1\" class=\"dataframe\">\n",
       "  <thead>\n",
       "    <tr style=\"text-align: right;\">\n",
       "      <th></th>\n",
       "      <th>0</th>\n",
       "      <th>1</th>\n",
       "      <th>2</th>\n",
       "      <th>3</th>\n",
       "    </tr>\n",
       "  </thead>\n",
       "  <tbody>\n",
       "    <tr>\n",
       "      <th>call</th>\n",
       "      <td>1.0</td>\n",
       "      <td>0.0</td>\n",
       "      <td>0.0</td>\n",
       "      <td>0.0</td>\n",
       "    </tr>\n",
       "    <tr>\n",
       "      <th>bird</th>\n",
       "      <td>1.0</td>\n",
       "      <td>1.0</td>\n",
       "      <td>1.0</td>\n",
       "      <td>0.0</td>\n",
       "    </tr>\n",
       "    <tr>\n",
       "      <th>habit</th>\n",
       "      <td>1.0</td>\n",
       "      <td>0.0</td>\n",
       "      <td>0.0</td>\n",
       "      <td>0.0</td>\n",
       "    </tr>\n",
       "    <tr>\n",
       "      <th>brother</th>\n",
       "      <td>0.0</td>\n",
       "      <td>1.0</td>\n",
       "      <td>0.0</td>\n",
       "      <td>0.0</td>\n",
       "    </tr>\n",
       "    <tr>\n",
       "      <th>like</th>\n",
       "      <td>0.0</td>\n",
       "      <td>1.0</td>\n",
       "      <td>0.0</td>\n",
       "      <td>0.0</td>\n",
       "    </tr>\n",
       "    <tr>\n",
       "      <th>month</th>\n",
       "      <td>0.0</td>\n",
       "      <td>1.0</td>\n",
       "      <td>0.0</td>\n",
       "      <td>0.0</td>\n",
       "    </tr>\n",
       "    <tr>\n",
       "      <th>father</th>\n",
       "      <td>0.0</td>\n",
       "      <td>1.0</td>\n",
       "      <td>0.0</td>\n",
       "      <td>0.0</td>\n",
       "    </tr>\n",
       "    <tr>\n",
       "      <th>gave</th>\n",
       "      <td>0.0</td>\n",
       "      <td>1.0</td>\n",
       "      <td>0.0</td>\n",
       "      <td>0.0</td>\n",
       "    </tr>\n",
       "    <tr>\n",
       "      <th>black</th>\n",
       "      <td>0.0</td>\n",
       "      <td>1.0</td>\n",
       "      <td>0.0</td>\n",
       "      <td>0.0</td>\n",
       "    </tr>\n",
       "    <tr>\n",
       "      <th>antoni</th>\n",
       "      <td>0.0</td>\n",
       "      <td>0.0</td>\n",
       "      <td>1.0</td>\n",
       "      <td>0.0</td>\n",
       "    </tr>\n",
       "    <tr>\n",
       "      <th>lost</th>\n",
       "      <td>0.0</td>\n",
       "      <td>0.0</td>\n",
       "      <td>1.0</td>\n",
       "      <td>0.0</td>\n",
       "    </tr>\n",
       "    <tr>\n",
       "      <th>greedi</th>\n",
       "      <td>0.0</td>\n",
       "      <td>0.0</td>\n",
       "      <td>0.0</td>\n",
       "      <td>1.0</td>\n",
       "    </tr>\n",
       "    <tr>\n",
       "      <th>characterist</th>\n",
       "      <td>0.0</td>\n",
       "      <td>0.0</td>\n",
       "      <td>0.0</td>\n",
       "      <td>1.0</td>\n",
       "    </tr>\n",
       "    <tr>\n",
       "      <th>hate</th>\n",
       "      <td>0.0</td>\n",
       "      <td>0.0</td>\n",
       "      <td>0.0</td>\n",
       "      <td>1.0</td>\n",
       "    </tr>\n",
       "  </tbody>\n",
       "</table>\n",
       "</div>"
      ],
      "text/plain": [
       "                0    1    2    3\n",
       "call          1.0  0.0  0.0  0.0\n",
       "bird          1.0  1.0  1.0  0.0\n",
       "habit         1.0  0.0  0.0  0.0\n",
       "brother       0.0  1.0  0.0  0.0\n",
       "like          0.0  1.0  0.0  0.0\n",
       "month         0.0  1.0  0.0  0.0\n",
       "father        0.0  1.0  0.0  0.0\n",
       "gave          0.0  1.0  0.0  0.0\n",
       "black         0.0  1.0  0.0  0.0\n",
       "antoni        0.0  0.0  1.0  0.0\n",
       "lost          0.0  0.0  1.0  0.0\n",
       "greedi        0.0  0.0  0.0  1.0\n",
       "characterist  0.0  0.0  0.0  1.0\n",
       "hate          0.0  0.0  0.0  1.0"
      ]
     },
     "execution_count": 10,
     "metadata": {},
     "output_type": "execute_result"
    }
   ],
   "source": [
    "tf_document[tf_document != 0] = 1\n",
    "tf_document"
   ]
  },
  {
   "cell_type": "markdown",
   "id": "6fbc6318-e4be-4949-b44e-2ca9c7e3fff1",
   "metadata": {},
   "source": [
    "### Availablity Mapping"
   ]
  },
  {
   "cell_type": "code",
   "execution_count": 11,
   "id": "91448ff2-4648-4e83-8cc9-882d5903f922",
   "metadata": {},
   "outputs": [],
   "source": [
    "list_mapping = []\n",
    "documents = {}\n",
    "for i in range(len(unique_words)):\n",
    "    mapp = tf_document.iloc[i].values.astype(int).tolist()\n",
    "    documents[tf_document.index[i]] = mapp"
   ]
  },
  {
   "cell_type": "code",
   "execution_count": 12,
   "id": "e6886395-ebf7-4563-8723-f5f7548a0c24",
   "metadata": {},
   "outputs": [
    {
     "data": {
      "text/plain": [
       "{'call': [1, 0, 0, 0],\n",
       " 'bird': [1, 1, 1, 0],\n",
       " 'habit': [1, 0, 0, 0],\n",
       " 'brother': [0, 1, 0, 0],\n",
       " 'like': [0, 1, 0, 0],\n",
       " 'month': [0, 1, 0, 0],\n",
       " 'father': [0, 1, 0, 0],\n",
       " 'gave': [0, 1, 0, 0],\n",
       " 'black': [0, 1, 0, 0],\n",
       " 'antoni': [0, 0, 1, 0],\n",
       " 'lost': [0, 0, 1, 0],\n",
       " 'greedi': [0, 0, 0, 1],\n",
       " 'characterist': [0, 0, 0, 1],\n",
       " 'hate': [0, 0, 0, 1]}"
      ]
     },
     "execution_count": 12,
     "metadata": {},
     "output_type": "execute_result"
    }
   ],
   "source": [
    "documents"
   ]
  },
  {
   "cell_type": "markdown",
   "id": "8fc8cd78-2b71-4738-b638-5b24022c8edb",
   "metadata": {},
   "source": [
    "### Query imputation and preprocessing"
   ]
  },
  {
   "cell_type": "code",
   "execution_count": 13,
   "id": "8ed99e05-c1b2-4d04-98d7-3d8b7ef15f7c",
   "metadata": {},
   "outputs": [
    {
     "name": "stdin",
     "output_type": "stream",
     "text": [
      "Insert a query:  call and bird not greedy\n"
     ]
    },
    {
     "name": "stdout",
     "output_type": "stream",
     "text": [
      "pre-process query:  ['call and bird not greedi']\n"
     ]
    }
   ],
   "source": [
    "query = input(\"Insert a query: \")\n",
    "clean_query = preprocess(query)\n",
    "print(\"pre-process query: \", clean_query)"
   ]
  },
  {
   "cell_type": "code",
   "execution_count": 21,
   "id": "b3a59975-5c0a-45b8-bd45-3d90afa142db",
   "metadata": {},
   "outputs": [],
   "source": [
    "def boolean_rules():\n",
    "    tokens = clean_query[0].lower().split()\n",
    "    result = np.array(5, dtype=int)\n",
    "    \n",
    "    i = 0\n",
    "    while i < len(tokens):\n",
    "        token = tokens[i]\n",
    "        if token == \"not\":\n",
    "            i += 1\n",
    "            next_token = tokens[i]\n",
    "            result = ~np.array(documents[next_token])*result\n",
    "        elif token == \"and\":\n",
    "            i += 1\n",
    "            next_token = tokens[i]\n",
    "            result = result & np.array(documents[next_token])\n",
    "        elif token == \"or\":\n",
    "            i += 1\n",
    "            next_token = tokens[i]\n",
    "            result = result | np.array(documents[next_token])\n",
    "        else:\n",
    "            result = np.array(documents[token])\n",
    "        i += 1\n",
    "        \n",
    "    return abs(result)"
   ]
  },
  {
   "cell_type": "code",
   "execution_count": 23,
   "id": "c79e85d1-26b1-4bb0-b584-0bee7cd73448",
   "metadata": {
    "scrolled": true
   },
   "outputs": [],
   "source": [
    "search = boolean_rules()"
   ]
  },
  {
   "cell_type": "code",
   "execution_count": 48,
   "id": "d8e16c05-31a5-4199-b7de-6af9f1c6b0c0",
   "metadata": {},
   "outputs": [
    {
     "name": "stdout",
     "output_type": "stream",
     "text": [
      "Most Relevant Document Located at Document 0\n"
     ]
    },
    {
     "data": {
      "text/html": [
       "<div>\n",
       "<style scoped>\n",
       "    .dataframe tbody tr th:only-of-type {\n",
       "        vertical-align: middle;\n",
       "    }\n",
       "\n",
       "    .dataframe tbody tr th {\n",
       "        vertical-align: top;\n",
       "    }\n",
       "\n",
       "    .dataframe thead th {\n",
       "        text-align: right;\n",
       "    }\n",
       "</style>\n",
       "<table border=\"1\" class=\"dataframe\">\n",
       "  <thead>\n",
       "    <tr style=\"text-align: right;\">\n",
       "      <th></th>\n",
       "      <th>text</th>\n",
       "    </tr>\n",
       "  </thead>\n",
       "  <tbody>\n",
       "    <tr>\n",
       "      <th>0</th>\n",
       "      <td>They called him a bird, because of his habit</td>\n",
       "    </tr>\n",
       "  </tbody>\n",
       "</table>\n",
       "</div>"
      ],
      "text/plain": [
       "                                           text\n",
       "0  They called him a bird, because of his habit"
      ]
     },
     "execution_count": 48,
     "metadata": {},
     "output_type": "execute_result"
    }
   ],
   "source": [
    "print(f\"Most Relevant Document Located at Document {({search.argmax()}.pop())}\")\n",
    "pd.DataFrame(validate.iloc[({search.argmax()}.pop())]).T[[\"text\"]]"
   ]
  }
 ],
 "metadata": {
  "kernelspec": {
   "display_name": "information",
   "language": "python",
   "name": "information"
  },
  "language_info": {
   "codemirror_mode": {
    "name": "ipython",
    "version": 3
   },
   "file_extension": ".py",
   "mimetype": "text/x-python",
   "name": "python",
   "nbconvert_exporter": "python",
   "pygments_lexer": "ipython3",
   "version": "3.12.3"
  }
 },
 "nbformat": 4,
 "nbformat_minor": 5
}
