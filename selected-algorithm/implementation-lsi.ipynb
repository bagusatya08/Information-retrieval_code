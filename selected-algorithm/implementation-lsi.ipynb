{
 "cells": [
  {
   "cell_type": "markdown",
   "id": "eb9a1852-b5ea-495a-b0c1-55341a91e7e6",
   "metadata": {},
   "source": [
    "## Latent Semantic Indexing (LSI)\n",
    "Latent Semantic Indexing (LSI) is a powerful technique in natural language processing and information retrieval that helps uncover the underlying relationships between terms and documents. **It enhances the retrieval of relevant documents by capturing the latent structure in the data.**\n",
    "\n",
    "- **Term-Document Matrix:** The initial step in LSI involves creating a term-document matrix where each row represents a unique term, and each column represents a document. The entries in the matrix indicate the frequency of terms in the documents.\n",
    "\n",
    "- **Singular Value Decomposition (SVD):** LSI applies SVD to the term-document matrix. SVD decomposes the matrix into three other matrices:\n",
    "  - \\( U \\): Term matrix, where each row represents a term in a reduced-dimensional space.\n",
    "  - \\( Σ \\): Diagonal matrix of singular values, representing the importance of each dimension.\n",
    "  - \\( V^T \\): Document matrix, where each column represents a document in the reduced-dimensional space.\n",
    "\n",
    "- **Dimensionality Reduction:** By selecting the top \\( k \\) singular values from the diagonal matrix \\( Σ \\) and the corresponding columns from \\( U \\) and rows from \\( V^T \\), LSI reduces the dimensionality of the original term-document matrix.\n",
    "\n",
    "**This reduction captures the most significant patterns in the data while ignoring noise and less important details.**"
   ]
  },
  {
   "cell_type": "markdown",
   "id": "7ebac20c-80d6-44a7-90ae-94c1d4797b66",
   "metadata": {
    "id": "9MsVvRo3LQtO"
   },
   "source": [
    "### Library Initialization"
   ]
  },
  {
   "cell_type": "code",
   "execution_count": 1,
   "id": "84baa3a6-bfd6-4f42-b8bc-711db3933f3b",
   "metadata": {
    "id": "vaTjE7WVJ9Yg",
    "tags": []
   },
   "outputs": [],
   "source": [
    "import numpy as np\n",
    "from numpy.linalg import norm\n",
    "import pandas as pd\n",
    "import regex as re\n",
    "\n",
    "import nltk\n",
    "from nltk.corpus import stopwords\n",
    "from nltk.stem import PorterStemmer\n",
    "from nltk.tokenize import word_tokenize"
   ]
  },
  {
   "cell_type": "code",
   "execution_count": 2,
   "id": "ca1debb8-44b9-4823-977c-48c940f110cb",
   "metadata": {},
   "outputs": [
    {
     "name": "stderr",
     "output_type": "stream",
     "text": [
      "[nltk_data] Error loading punkt: <urlopen error [Errno 8] nodename nor\n",
      "[nltk_data]     servname provided, or not known>\n",
      "[nltk_data] Error loading stopwords: <urlopen error [Errno 8] nodename\n",
      "[nltk_data]     nor servname provided, or not known>\n"
     ]
    },
    {
     "data": {
      "text/plain": [
       "False"
      ]
     },
     "execution_count": 2,
     "metadata": {},
     "output_type": "execute_result"
    }
   ],
   "source": [
    "nltk.download('punkt')\n",
    "nltk.download('stopwords')"
   ]
  },
  {
   "cell_type": "markdown",
   "id": "4d02fa04-bbf7-46b5-ba78-f909c303d95d",
   "metadata": {},
   "source": [
    "### Defining Preprocess"
   ]
  },
  {
   "cell_type": "code",
   "execution_count": 3,
   "id": "e3e28585-db1a-43a9-b177-b65163f6b3f3",
   "metadata": {},
   "outputs": [],
   "source": [
    "def preprocess(text):\n",
    "  clean_text = []\n",
    "  stemmer = PorterStemmer()\n",
    "  stop_words = set(stopwords.words('english'))\n",
    "\n",
    "  for t in text:\n",
    "      clean = re.sub(r'[^\\w\\s]', '', t.lower())\n",
    "      clean = re.sub(r'\\d+', '', clean)\n",
    "      tokens = word_tokenize(clean)\n",
    "      stemmed_tokens = [stemmer.stem(token) for token in tokens if token not in stop_words]\n",
    "      clean_text.append(' '.join(stemmed_tokens))\n",
    "\n",
    "  return clean_text"
   ]
  },
  {
   "cell_type": "markdown",
   "id": "8f71c90a-78b0-4d04-95d5-089063c21d91",
   "metadata": {
    "id": "7WRDPr7sLGSO",
    "tags": []
   },
   "source": [
    "### Importing Cleaned Corpus"
   ]
  },
  {
   "cell_type": "code",
   "execution_count": 4,
   "id": "f6d8cd14-6b84-4111-aa00-06ef464d21f6",
   "metadata": {
    "colab": {
     "base_uri": "https://localhost:8080/",
     "height": 745
    },
    "id": "asgylMmTJ9md",
    "outputId": "5f1f6ff6-a460-4392-fc53-2e28417569ea",
    "scrolled": true,
    "tags": []
   },
   "outputs": [
    {
     "data": {
      "text/html": [
       "<div>\n",
       "<style scoped>\n",
       "    .dataframe tbody tr th:only-of-type {\n",
       "        vertical-align: middle;\n",
       "    }\n",
       "\n",
       "    .dataframe tbody tr th {\n",
       "        vertical-align: top;\n",
       "    }\n",
       "\n",
       "    .dataframe thead th {\n",
       "        text-align: right;\n",
       "    }\n",
       "</style>\n",
       "<table border=\"1\" class=\"dataframe\">\n",
       "  <thead>\n",
       "    <tr style=\"text-align: right;\">\n",
       "      <th></th>\n",
       "      <th>teks</th>\n",
       "    </tr>\n",
       "  </thead>\n",
       "  <tbody>\n",
       "    <tr>\n",
       "      <th>0</th>\n",
       "      <td>call bird habit</td>\n",
       "    </tr>\n",
       "    <tr>\n",
       "      <th>1</th>\n",
       "      <td>brother like bird month father gave black bird</td>\n",
       "    </tr>\n",
       "    <tr>\n",
       "      <th>2</th>\n",
       "      <td>antoni bird lost</td>\n",
       "    </tr>\n",
       "    <tr>\n",
       "      <th>3</th>\n",
       "      <td>greedi characterist hate</td>\n",
       "    </tr>\n",
       "  </tbody>\n",
       "</table>\n",
       "</div>"
      ],
      "text/plain": [
       "                                             teks\n",
       "0                                 call bird habit\n",
       "1  brother like bird month father gave black bird\n",
       "2                                antoni bird lost\n",
       "3                        greedi characterist hate"
      ]
     },
     "execution_count": 4,
     "metadata": {},
     "output_type": "execute_result"
    }
   ],
   "source": [
    "pd.set_option('display.max_columns', None)\n",
    "pd.set_option('display.expand_frame_repr', False)\n",
    "pd.set_option('display.max_colwidth', 1000)\n",
    "\n",
    "dataset = pd.read_csv(\"../corpus/clean-corpus-inggris.csv\")\n",
    "dataset"
   ]
  },
  {
   "cell_type": "markdown",
   "id": "9ae7c852-f2f0-4344-98ff-d0d5cbd4d440",
   "metadata": {},
   "source": [
    "### Importing Un-Preprocessed Corpus"
   ]
  },
  {
   "cell_type": "code",
   "execution_count": 5,
   "id": "24c91923-ac49-4eb3-8e2c-35f63ea4d674",
   "metadata": {
    "scrolled": true,
    "tags": []
   },
   "outputs": [
    {
     "data": {
      "text/html": [
       "<div>\n",
       "<style scoped>\n",
       "    .dataframe tbody tr th:only-of-type {\n",
       "        vertical-align: middle;\n",
       "    }\n",
       "\n",
       "    .dataframe tbody tr th {\n",
       "        vertical-align: top;\n",
       "    }\n",
       "\n",
       "    .dataframe thead th {\n",
       "        text-align: right;\n",
       "    }\n",
       "</style>\n",
       "<table border=\"1\" class=\"dataframe\">\n",
       "  <thead>\n",
       "    <tr style=\"text-align: right;\">\n",
       "      <th></th>\n",
       "      <th>id</th>\n",
       "      <th>text</th>\n",
       "      <th>topic</th>\n",
       "    </tr>\n",
       "  </thead>\n",
       "  <tbody>\n",
       "    <tr>\n",
       "      <th>0</th>\n",
       "      <td>ENG1</td>\n",
       "      <td>They called him a bird, because of his habit</td>\n",
       "      <td>bird</td>\n",
       "    </tr>\n",
       "    <tr>\n",
       "      <th>1</th>\n",
       "      <td>ENG2</td>\n",
       "      <td>My brother likes bird and after a month my father gave him a black bird</td>\n",
       "      <td>bird</td>\n",
       "    </tr>\n",
       "    <tr>\n",
       "      <th>2</th>\n",
       "      <td>ENG3</td>\n",
       "      <td>Antony has a bird and he lost it</td>\n",
       "      <td>bird</td>\n",
       "    </tr>\n",
       "    <tr>\n",
       "      <th>3</th>\n",
       "      <td>ENG4</td>\n",
       "      <td>Greedy is the most characteristic that I hate</td>\n",
       "      <td>hate</td>\n",
       "    </tr>\n",
       "  </tbody>\n",
       "</table>\n",
       "</div>"
      ],
      "text/plain": [
       "     id                                                                     text topic\n",
       "0  ENG1                             They called him a bird, because of his habit  bird\n",
       "1  ENG2  My brother likes bird and after a month my father gave him a black bird  bird\n",
       "2  ENG3                                         Antony has a bird and he lost it  bird\n",
       "3  ENG4                            Greedy is the most characteristic that I hate  hate"
      ]
     },
     "execution_count": 5,
     "metadata": {},
     "output_type": "execute_result"
    }
   ],
   "source": [
    "validate = pd.read_csv(\"../corpus/corpus-inggris.csv\").head(4)\n",
    "validate"
   ]
  },
  {
   "cell_type": "markdown",
   "id": "5e50e9c3-5fc8-49b4-844e-e1df81791070",
   "metadata": {},
   "source": [
    "### Corpus Preparations"
   ]
  },
  {
   "cell_type": "code",
   "execution_count": 6,
   "id": "d47cf79f-64d0-4e18-b635-d6a23b3abe93",
   "metadata": {
    "scrolled": true,
    "tags": []
   },
   "outputs": [
    {
     "data": {
      "text/plain": [
       "['call bird habit',\n",
       " 'brother like bird month father gave black bird',\n",
       " 'antoni bird lost',\n",
       " 'greedi characterist hate']"
      ]
     },
     "execution_count": 6,
     "metadata": {},
     "output_type": "execute_result"
    }
   ],
   "source": [
    "corpus = dataset.teks.tolist()\n",
    "corpus"
   ]
  },
  {
   "cell_type": "markdown",
   "id": "7c60c3a8-fab2-4cb2-bfb3-de812cacb272",
   "metadata": {},
   "source": [
    "#### Looking to display the unique words"
   ]
  },
  {
   "cell_type": "code",
   "execution_count": 7,
   "id": "9201d151-422f-4ffd-835e-bf4f708cd679",
   "metadata": {
    "scrolled": true
   },
   "outputs": [
    {
     "data": {
      "text/plain": [
       "{'antoni',\n",
       " 'bird',\n",
       " 'black',\n",
       " 'brother',\n",
       " 'call',\n",
       " 'characterist',\n",
       " 'father',\n",
       " 'gave',\n",
       " 'greedi',\n",
       " 'habit',\n",
       " 'hate',\n",
       " 'like',\n",
       " 'lost',\n",
       " 'month'}"
      ]
     },
     "execution_count": 7,
     "metadata": {},
     "output_type": "execute_result"
    }
   ],
   "source": [
    "unique_words = set()\n",
    "for sentence in corpus:\n",
    "    words = sentence.split()\n",
    "    unique_words.update(words)\n",
    "unique_words"
   ]
  },
  {
   "cell_type": "code",
   "execution_count": 8,
   "id": "84ea14e9-ee83-4935-8691-9af1048adee8",
   "metadata": {},
   "outputs": [
    {
     "name": "stdout",
     "output_type": "stream",
     "text": [
      "Insert a query:\n"
     ]
    },
    {
     "name": "stdin",
     "output_type": "stream",
     "text": [
      " last month, i have a bird named anthony, but it's dead right now\n"
     ]
    },
    {
     "name": "stdout",
     "output_type": "stream",
     "text": [
      "List of words in the query:\n",
      " ['last', 'month,', 'i', 'have', 'a', 'bird', 'named', 'anthony,', 'but', \"it's\", 'dead', 'right', 'now']\n",
      "List of the queries:\n",
      " ['month', 'bird']\n"
     ]
    }
   ],
   "source": [
    "clean_query=[]\n",
    "\n",
    "while True:\n",
    "    print(\"Insert a query:\")\n",
    "    query = input()\n",
    "    list_query =query.split(' ')\n",
    "    clean_query = preprocess(list_query)\n",
    "    clean_query= [word for word in clean_query if word != '']\n",
    "    clean_query= [word for word in clean_query if word in unique_words]\n",
    "    if clean_query:\n",
    "        break\n",
    "\n",
    "print(\"List of words in the query:\\n\",list_query)\n",
    "print(\"List of the queries:\\n\",clean_query)"
   ]
  },
  {
   "cell_type": "markdown",
   "id": "27fd9abf-cc27-428b-b06f-c3cd20c853d5",
   "metadata": {},
   "source": [
    "### TF (Term Frequency)"
   ]
  },
  {
   "cell_type": "code",
   "execution_count": 9,
   "id": "e696b1fa-5191-4c78-b51a-66633d1f3ba7",
   "metadata": {},
   "outputs": [],
   "source": [
    "def tf(text):\n",
    "    word_count_per_document = {}\n",
    "\n",
    "    for i, sentence in enumerate(text, start=0):\n",
    "        words = sentence.split()\n",
    "        for word in words:\n",
    "            if word in word_count_per_document:\n",
    "                if i in word_count_per_document[word]:\n",
    "                    word_count_per_document[word][i] += 1\n",
    "                else:\n",
    "                    word_count_per_document[word][i] = 1\n",
    "            else:\n",
    "                word_count_per_document[word] = {i: 1}\n",
    "\n",
    "    df_term_frequency = pd.DataFrame(word_count_per_document)\n",
    "    df_term_frequency.fillna(0, inplace=True)\n",
    "    return df_term_frequency.T"
   ]
  },
  {
   "cell_type": "markdown",
   "id": "838061fd-5d58-41a2-b2d7-e1ac511e8b46",
   "metadata": {},
   "source": [
    "#### Searching for the document term frequency"
   ]
  },
  {
   "cell_type": "code",
   "execution_count": 10,
   "id": "d9bf9346-60be-4289-ad3a-1521318e3152",
   "metadata": {},
   "outputs": [
    {
     "data": {
      "text/html": [
       "<div>\n",
       "<style scoped>\n",
       "    .dataframe tbody tr th:only-of-type {\n",
       "        vertical-align: middle;\n",
       "    }\n",
       "\n",
       "    .dataframe tbody tr th {\n",
       "        vertical-align: top;\n",
       "    }\n",
       "\n",
       "    .dataframe thead th {\n",
       "        text-align: right;\n",
       "    }\n",
       "</style>\n",
       "<table border=\"1\" class=\"dataframe\">\n",
       "  <thead>\n",
       "    <tr style=\"text-align: right;\">\n",
       "      <th></th>\n",
       "      <th>0</th>\n",
       "      <th>1</th>\n",
       "      <th>2</th>\n",
       "      <th>3</th>\n",
       "    </tr>\n",
       "  </thead>\n",
       "  <tbody>\n",
       "    <tr>\n",
       "      <th>call</th>\n",
       "      <td>1.0</td>\n",
       "      <td>0.0</td>\n",
       "      <td>0.0</td>\n",
       "      <td>0.0</td>\n",
       "    </tr>\n",
       "    <tr>\n",
       "      <th>bird</th>\n",
       "      <td>1.0</td>\n",
       "      <td>2.0</td>\n",
       "      <td>1.0</td>\n",
       "      <td>0.0</td>\n",
       "    </tr>\n",
       "    <tr>\n",
       "      <th>habit</th>\n",
       "      <td>1.0</td>\n",
       "      <td>0.0</td>\n",
       "      <td>0.0</td>\n",
       "      <td>0.0</td>\n",
       "    </tr>\n",
       "    <tr>\n",
       "      <th>brother</th>\n",
       "      <td>0.0</td>\n",
       "      <td>1.0</td>\n",
       "      <td>0.0</td>\n",
       "      <td>0.0</td>\n",
       "    </tr>\n",
       "    <tr>\n",
       "      <th>like</th>\n",
       "      <td>0.0</td>\n",
       "      <td>1.0</td>\n",
       "      <td>0.0</td>\n",
       "      <td>0.0</td>\n",
       "    </tr>\n",
       "    <tr>\n",
       "      <th>month</th>\n",
       "      <td>0.0</td>\n",
       "      <td>1.0</td>\n",
       "      <td>0.0</td>\n",
       "      <td>0.0</td>\n",
       "    </tr>\n",
       "    <tr>\n",
       "      <th>father</th>\n",
       "      <td>0.0</td>\n",
       "      <td>1.0</td>\n",
       "      <td>0.0</td>\n",
       "      <td>0.0</td>\n",
       "    </tr>\n",
       "    <tr>\n",
       "      <th>gave</th>\n",
       "      <td>0.0</td>\n",
       "      <td>1.0</td>\n",
       "      <td>0.0</td>\n",
       "      <td>0.0</td>\n",
       "    </tr>\n",
       "    <tr>\n",
       "      <th>black</th>\n",
       "      <td>0.0</td>\n",
       "      <td>1.0</td>\n",
       "      <td>0.0</td>\n",
       "      <td>0.0</td>\n",
       "    </tr>\n",
       "    <tr>\n",
       "      <th>antoni</th>\n",
       "      <td>0.0</td>\n",
       "      <td>0.0</td>\n",
       "      <td>1.0</td>\n",
       "      <td>0.0</td>\n",
       "    </tr>\n",
       "    <tr>\n",
       "      <th>lost</th>\n",
       "      <td>0.0</td>\n",
       "      <td>0.0</td>\n",
       "      <td>1.0</td>\n",
       "      <td>0.0</td>\n",
       "    </tr>\n",
       "    <tr>\n",
       "      <th>greedi</th>\n",
       "      <td>0.0</td>\n",
       "      <td>0.0</td>\n",
       "      <td>0.0</td>\n",
       "      <td>1.0</td>\n",
       "    </tr>\n",
       "    <tr>\n",
       "      <th>characterist</th>\n",
       "      <td>0.0</td>\n",
       "      <td>0.0</td>\n",
       "      <td>0.0</td>\n",
       "      <td>1.0</td>\n",
       "    </tr>\n",
       "    <tr>\n",
       "      <th>hate</th>\n",
       "      <td>0.0</td>\n",
       "      <td>0.0</td>\n",
       "      <td>0.0</td>\n",
       "      <td>1.0</td>\n",
       "    </tr>\n",
       "  </tbody>\n",
       "</table>\n",
       "</div>"
      ],
      "text/plain": [
       "                0    1    2    3\n",
       "call          1.0  0.0  0.0  0.0\n",
       "bird          1.0  2.0  1.0  0.0\n",
       "habit         1.0  0.0  0.0  0.0\n",
       "brother       0.0  1.0  0.0  0.0\n",
       "like          0.0  1.0  0.0  0.0\n",
       "month         0.0  1.0  0.0  0.0\n",
       "father        0.0  1.0  0.0  0.0\n",
       "gave          0.0  1.0  0.0  0.0\n",
       "black         0.0  1.0  0.0  0.0\n",
       "antoni        0.0  0.0  1.0  0.0\n",
       "lost          0.0  0.0  1.0  0.0\n",
       "greedi        0.0  0.0  0.0  1.0\n",
       "characterist  0.0  0.0  0.0  1.0\n",
       "hate          0.0  0.0  0.0  1.0"
      ]
     },
     "execution_count": 10,
     "metadata": {},
     "output_type": "execute_result"
    }
   ],
   "source": [
    "tf_document= tf(corpus).T.sort_index().T\n",
    "tf_document"
   ]
  },
  {
   "cell_type": "markdown",
   "id": "256c1001-5d08-4a8e-a942-2cb95bc9b0f8",
   "metadata": {},
   "source": [
    "#### Searching for the query term frequency"
   ]
  },
  {
   "cell_type": "code",
   "execution_count": 11,
   "id": "e540a192-c5fa-4532-ae30-ee8af3e73a10",
   "metadata": {},
   "outputs": [
    {
     "data": {
      "text/html": [
       "<div>\n",
       "<style scoped>\n",
       "    .dataframe tbody tr th:only-of-type {\n",
       "        vertical-align: middle;\n",
       "    }\n",
       "\n",
       "    .dataframe tbody tr th {\n",
       "        vertical-align: top;\n",
       "    }\n",
       "\n",
       "    .dataframe thead th {\n",
       "        text-align: right;\n",
       "    }\n",
       "</style>\n",
       "<table border=\"1\" class=\"dataframe\">\n",
       "  <thead>\n",
       "    <tr style=\"text-align: right;\">\n",
       "      <th></th>\n",
       "      <th>query</th>\n",
       "    </tr>\n",
       "  </thead>\n",
       "  <tbody>\n",
       "    <tr>\n",
       "      <th>month</th>\n",
       "      <td>1.0</td>\n",
       "    </tr>\n",
       "    <tr>\n",
       "      <th>bird</th>\n",
       "      <td>1.0</td>\n",
       "    </tr>\n",
       "  </tbody>\n",
       "</table>\n",
       "</div>"
      ],
      "text/plain": [
       "       query\n",
       "month    1.0\n",
       "bird     1.0"
      ]
     },
     "execution_count": 11,
     "metadata": {},
     "output_type": "execute_result"
    }
   ],
   "source": [
    "tf_query= pd.DataFrame(tf(clean_query).sum(axis=1), columns=[\"query\"])\n",
    "tf_query"
   ]
  },
  {
   "cell_type": "markdown",
   "id": "0af6aab2-ba6c-4f1e-a8bf-60957d815e0d",
   "metadata": {},
   "source": [
    "### Array Transformation\n",
    "#### Array of Documents"
   ]
  },
  {
   "cell_type": "code",
   "execution_count": 12,
   "id": "c3123bd1-3346-40d9-bbbc-a1a7433c05f3",
   "metadata": {},
   "outputs": [
    {
     "data": {
      "text/plain": [
       "[[1, 0, 0, 0],\n",
       " [1, 2, 1, 0],\n",
       " [1, 0, 0, 0],\n",
       " [0, 1, 0, 0],\n",
       " [0, 1, 0, 0],\n",
       " [0, 1, 0, 0],\n",
       " [0, 1, 0, 0],\n",
       " [0, 1, 0, 0],\n",
       " [0, 1, 0, 0],\n",
       " [0, 0, 1, 0],\n",
       " [0, 0, 1, 0],\n",
       " [0, 0, 0, 1],\n",
       " [0, 0, 0, 1],\n",
       " [0, 0, 0, 1]]"
      ]
     },
     "execution_count": 12,
     "metadata": {},
     "output_type": "execute_result"
    }
   ],
   "source": [
    "corpus = []\n",
    "for i in tf_document.index:\n",
    "    documents = (tf_document.loc[i]).astype(int).values.tolist()\n",
    "    corpus.append(documents)\n",
    "\n",
    "corpus"
   ]
  },
  {
   "cell_type": "code",
   "execution_count": 13,
   "id": "e7fd6d4c-e54c-4fed-911b-00c123b074f3",
   "metadata": {},
   "outputs": [],
   "source": [
    "U, S, V = np.linalg.svd(corpus)"
   ]
  },
  {
   "cell_type": "code",
   "execution_count": 14,
   "id": "e2c1b1a1-8692-481b-a7f1-599efa0a9fab",
   "metadata": {},
   "outputs": [
    {
     "name": "stdout",
     "output_type": "stream",
     "text": [
      "[[-0.08  0.    0.39  0.5 ]\n",
      " [-0.71  0.    0.34 -0.  ]\n",
      " [-0.08  0.    0.39  0.5 ]\n",
      " [-0.28  0.   -0.22 -0.  ]\n",
      " [-0.28  0.   -0.22 -0.  ]\n",
      " [-0.28  0.   -0.22 -0.  ]\n",
      " [-0.28  0.   -0.22 -0.  ]\n",
      " [-0.28  0.   -0.22 -0.  ]\n",
      " [-0.28  0.   -0.22 -0.  ]\n",
      " [-0.08  0.    0.39 -0.5 ]\n",
      " [-0.08  0.    0.39 -0.5 ]\n",
      " [ 0.   -0.58  0.    0.  ]\n",
      " [ 0.   -0.58  0.    0.  ]\n",
      " [ 0.   -0.58  0.    0.  ]]\n"
     ]
    }
   ],
   "source": [
    "U_rounded = np.round(U[:,:(tf_document.shape[1])], decimals=2)\n",
    "print(U_rounded)"
   ]
  },
  {
   "cell_type": "code",
   "execution_count": 15,
   "id": "813ea6b1-5708-4047-ba22-422da4c568a1",
   "metadata": {},
   "outputs": [
    {
     "name": "stdout",
     "output_type": "stream",
     "text": [
      "[[3.34 0.   0.   0.  ]\n",
      " [0.   1.73 0.   0.  ]\n",
      " [0.   0.   1.7  0.  ]\n",
      " [0.   0.   0.   1.41]]\n"
     ]
    }
   ],
   "source": [
    "S = np.diag(S)\n",
    "S_rounded = np.round(S, decimals=2)\n",
    "print(S_rounded)"
   ]
  },
  {
   "cell_type": "code",
   "execution_count": 16,
   "id": "079590cd-55a3-4257-ad4f-d55f08c0b9c1",
   "metadata": {},
   "outputs": [
    {
     "name": "stdout",
     "output_type": "stream",
     "text": [
      "[[-0.26 -0.    0.66  0.71]\n",
      " [-0.93 -0.   -0.37  0.  ]\n",
      " [-0.26 -0.    0.66 -0.71]\n",
      " [ 0.   -1.    0.    0.  ]]\n"
     ]
    }
   ],
   "source": [
    "V_rounded = np.round(V.T, decimals=2)\n",
    "print(V_rounded)"
   ]
  },
  {
   "cell_type": "code",
   "execution_count": 17,
   "id": "218bc309-8fa0-4184-b641-02db44fc7058",
   "metadata": {},
   "outputs": [
    {
     "name": "stdout",
     "output_type": "stream",
     "text": [
      "[[0.069 0.248 0.069 0.   ]\n",
      " [0.617 2.205 0.617 0.   ]\n",
      " [0.069 0.248 0.069 0.   ]\n",
      " [0.243 0.87  0.243 0.   ]\n",
      " [0.243 0.87  0.243 0.   ]\n",
      " [0.243 0.87  0.243 0.   ]\n",
      " [0.243 0.87  0.243 0.   ]\n",
      " [0.243 0.87  0.243 0.   ]\n",
      " [0.243 0.87  0.243 0.   ]\n",
      " [0.069 0.248 0.069 0.   ]\n",
      " [0.069 0.248 0.069 0.   ]\n",
      " [0.    0.    0.    0.   ]\n",
      " [0.    0.    0.    0.   ]\n",
      " [0.    0.    0.    0.   ]]\n"
     ]
    }
   ],
   "source": [
    "X_results = np.round(U_rounded[:,:1].dot(S_rounded[:1,:1]).dot(V_rounded.T[:1]), decimals=3)\n",
    "print(X_results)"
   ]
  },
  {
   "cell_type": "markdown",
   "id": "32ca6c30-6af8-4489-bdfa-0c23d7047f19",
   "metadata": {},
   "source": [
    "#### Array of Query"
   ]
  },
  {
   "cell_type": "code",
   "execution_count": 18,
   "id": "4f0649ae-08c6-40f2-992e-f3857dc6d2f7",
   "metadata": {},
   "outputs": [
    {
     "data": {
      "text/plain": [
       "array([[0],\n",
       "       [1],\n",
       "       [0],\n",
       "       [0],\n",
       "       [0],\n",
       "       [1],\n",
       "       [0],\n",
       "       [0],\n",
       "       [0],\n",
       "       [0],\n",
       "       [0],\n",
       "       [0],\n",
       "       [0],\n",
       "       [0]])"
      ]
     },
     "execution_count": 18,
     "metadata": {},
     "output_type": "execute_result"
    }
   ],
   "source": [
    "query = []\n",
    "for i in tf_document.index:\n",
    "    try:\n",
    "        documents = (tf_query.loc[i]).astype(int).values.tolist()\n",
    "        query.append(documents)\n",
    "    except:\n",
    "        query.append(np.array([0]).tolist())\n",
    "\n",
    "query = np.array(query)\n",
    "query"
   ]
  },
  {
   "cell_type": "code",
   "execution_count": 19,
   "id": "9267a8c4-8f81-4a7c-ac5c-8ea25f8d31e5",
   "metadata": {},
   "outputs": [],
   "source": [
    "U, S, V = np.linalg.svd(query)"
   ]
  },
  {
   "cell_type": "code",
   "execution_count": 20,
   "id": "e99903d0-3d6f-4070-a42a-1c6dfda4fbb1",
   "metadata": {},
   "outputs": [
    {
     "name": "stdout",
     "output_type": "stream",
     "text": [
      "U =  [[ 0.   -0.71  0.    0.  ]\n",
      " [ 0.71  0.5   0.    0.  ]\n",
      " [ 0.    0.    1.    0.  ]\n",
      " [ 0.    0.    0.    1.  ]\n",
      " [ 0.    0.    0.    0.  ]\n",
      " [ 0.71 -0.5   0.    0.  ]\n",
      " [ 0.    0.    0.    0.  ]\n",
      " [ 0.    0.    0.    0.  ]\n",
      " [ 0.    0.    0.    0.  ]\n",
      " [ 0.    0.    0.    0.  ]\n",
      " [ 0.    0.    0.    0.  ]\n",
      " [ 0.    0.    0.    0.  ]\n",
      " [ 0.    0.    0.    0.  ]\n",
      " [ 0.    0.    0.    0.  ]]\n",
      "\n",
      "\n",
      "S =  [[1.41]]\n",
      "\n",
      "\n",
      "VT =  [[1.]]\n",
      "\n",
      "\n"
     ]
    }
   ],
   "source": [
    "U_rounded_q = np.round(U[:,:4], decimals=2)\n",
    "print(\"U = \", U_rounded_q)\n",
    "print(\"\\n\")\n",
    "\n",
    "S = np.diag(S)\n",
    "S_rounded_q = np.round(S, decimals=2)\n",
    "print(\"S = \",S_rounded_q)\n",
    "print(\"\\n\")\n",
    "\n",
    "V_rounded_q = np.round(V.T, decimals=2)\n",
    "print(\"VT = \",V_rounded_q)\n",
    "print(\"\\n\")"
   ]
  },
  {
   "cell_type": "code",
   "execution_count": 21,
   "id": "63a5d91b-84e4-4f99-96f6-d53365310488",
   "metadata": {
    "scrolled": true
   },
   "outputs": [
    {
     "name": "stdout",
     "output_type": "stream",
     "text": [
      "[[0.]]\n"
     ]
    }
   ],
   "source": [
    "X_results_q = np.round(U_rounded_q[:1,:1].dot(S_rounded_q).dot(V_rounded_q), decimals=3)\n",
    "print(X_results_q)"
   ]
  },
  {
   "cell_type": "code",
   "execution_count": 35,
   "id": "8466d754-f344-43da-8117-b90e4cf67629",
   "metadata": {},
   "outputs": [
    {
     "data": {
      "text/plain": [
       "[0, 0, 0, 0, 0, 0, 0, 0, 0, 0, 0, 0, 0, 0]"
      ]
     },
     "execution_count": 35,
     "metadata": {},
     "output_type": "execute_result"
    }
   ],
   "source": [
    "X_results_q_new = np.append(X_results_q, np.zeros(len(unique_words)-1, dtype=int))\n",
    "X_results_q_new = X_results_q_new.astype(int).tolist()\n",
    "X_results_q_new"
   ]
  },
  {
   "cell_type": "code",
   "execution_count": 24,
   "id": "680a2a82-e02f-453e-9b25-16a3a92ef2c0",
   "metadata": {},
   "outputs": [
    {
     "data": {
      "text/plain": [
       "[0, 1, 0, 0, 0, 1, 0, 0, 0, 0, 0, 0, 0, 0]"
      ]
     },
     "execution_count": 24,
     "metadata": {},
     "output_type": "execute_result"
    }
   ],
   "source": [
    "lists_query = [index.tolist()[0] for index in query]\n",
    "lists_query"
   ]
  },
  {
   "cell_type": "code",
   "execution_count": 38,
   "id": "f16736e9-917b-44b2-abdc-ba6feed6575b",
   "metadata": {},
   "outputs": [
    {
     "data": {
      "text/plain": [
       "array([0.182, 0.651, 0.182, 0.   ])"
      ]
     },
     "execution_count": 38,
     "metadata": {},
     "output_type": "execute_result"
    }
   ],
   "source": [
    "cosine = np.dot(lists_query, X_results)/(norm(X_results)*norm(lists_query))\n",
    "similary_score = np.round(cosine, decimals=3)\n",
    "similary_score "
   ]
  },
  {
   "cell_type": "code",
   "execution_count": 39,
   "id": "0f1f00ac-c33b-4c97-ae14-46e745788d57",
   "metadata": {},
   "outputs": [
    {
     "data": {
      "text/html": [
       "<div>\n",
       "<style scoped>\n",
       "    .dataframe tbody tr th:only-of-type {\n",
       "        vertical-align: middle;\n",
       "    }\n",
       "\n",
       "    .dataframe tbody tr th {\n",
       "        vertical-align: top;\n",
       "    }\n",
       "\n",
       "    .dataframe thead th {\n",
       "        text-align: right;\n",
       "    }\n",
       "</style>\n",
       "<table border=\"1\" class=\"dataframe\">\n",
       "  <thead>\n",
       "    <tr style=\"text-align: right;\">\n",
       "      <th></th>\n",
       "      <th>score</th>\n",
       "      <th>text</th>\n",
       "    </tr>\n",
       "  </thead>\n",
       "  <tbody>\n",
       "    <tr>\n",
       "      <th>1</th>\n",
       "      <td>0.651</td>\n",
       "      <td>My brother likes bird and after a month my father gave him a black bird</td>\n",
       "    </tr>\n",
       "    <tr>\n",
       "      <th>0</th>\n",
       "      <td>0.182</td>\n",
       "      <td>They called him a bird, because of his habit</td>\n",
       "    </tr>\n",
       "    <tr>\n",
       "      <th>2</th>\n",
       "      <td>0.182</td>\n",
       "      <td>Antony has a bird and he lost it</td>\n",
       "    </tr>\n",
       "    <tr>\n",
       "      <th>3</th>\n",
       "      <td>0.000</td>\n",
       "      <td>Greedy is the most characteristic that I hate</td>\n",
       "    </tr>\n",
       "  </tbody>\n",
       "</table>\n",
       "</div>"
      ],
      "text/plain": [
       "   score                                                                     text\n",
       "1  0.651  My brother likes bird and after a month my father gave him a black bird\n",
       "0  0.182                             They called him a bird, because of his habit\n",
       "2  0.182                                         Antony has a bird and he lost it\n",
       "3  0.000                            Greedy is the most characteristic that I hate"
      ]
     },
     "execution_count": 39,
     "metadata": {},
     "output_type": "execute_result"
    }
   ],
   "source": [
    "results = {'score'  : similary_score,\n",
    "           'text'   : validate.text\n",
    "          }\n",
    "\n",
    "pd.DataFrame(results).sort_values(by='score', ascending=False)"
   ]
  }
 ],
 "metadata": {
  "kernelspec": {
   "display_name": "information",
   "language": "python",
   "name": "information"
  },
  "language_info": {
   "codemirror_mode": {
    "name": "ipython",
    "version": 3
   },
   "file_extension": ".py",
   "mimetype": "text/x-python",
   "name": "python",
   "nbconvert_exporter": "python",
   "pygments_lexer": "ipython3",
   "version": "3.12.3"
  }
 },
 "nbformat": 4,
 "nbformat_minor": 5
}
