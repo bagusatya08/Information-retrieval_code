{
 "cells": [
  {
   "cell_type": "markdown",
   "id": "6915e029-9650-4a7c-95bf-df414c1bfcc8",
   "metadata": {},
   "source": [
    "## Term Frequency-Inverse Document Frequency (TF-IDF)\n",
    "Term Frequency - Inverse Document Frequency (TF-IDF) is a widely used statistical method in natural language processing and information retrieval. **It measures how important a term is within a document relative to a collection of documents** (i.e., relative to a corpus).\n",
    "- **Term Frequency:** TF of a term or word is the number of times the term appears in a document compared to the total number of words in the document.\n",
    "- **Inverse Document Frequency:** IDF of a term reflects the proportion of documents in the corpus that contain the term. Words unique to a small percentage of documents (e.g., technical jargon terms) receive higher importance values than words common across all documents (e.g., a, the, and)."
   ]
  },
  {
   "cell_type": "markdown",
   "id": "0c02b10a-c9f1-44af-9a5c-9959aeff557a",
   "metadata": {},
   "source": [
    "### About Project\n",
    "This project devided into **three notebooks** that explained the usage of TF-IDF using **Bahasa Indonesia & English.** The process flow of this project start from data collection (corpus) to pre-processing and algorithm fitting, the detailed steps explained below:\n",
    "1. **Data Collection (self-produce)**\n",
    "2. **Text Pre-Processing (Case Folding, Punctuation Removal, Tokenizing, Applying Stop Words, Stemming)**\n",
    "3. **Fitting the TF-IDF Algorithm**\n",
    "4. **Testing for Input and Output**"
   ]
  },
  {
   "cell_type": "markdown",
   "id": "3e8790ff-12e6-4aef-80e0-9fc5ffeb667b",
   "metadata": {},
   "source": [
    "#### The Notebook Divided into three sub-process:\n",
    "1. text-preprocessing-english.ipynb\n",
    "2. text-preprocessing-indonesia.ipynb\n",
    "3. implementation.ipynb"
   ]
  },
  {
   "cell_type": "markdown",
   "id": "23ea7525-abe3-4fd4-8257-383ca7094dbe",
   "metadata": {},
   "source": [
    "### Listing library used in this project"
   ]
  },
  {
   "cell_type": "code",
   "execution_count": 1,
   "id": "4d57945b-3083-41a0-8965-2fe355d07497",
   "metadata": {
    "tags": []
   },
   "outputs": [
    {
     "name": "stdout",
     "output_type": "stream",
     "text": [
      "Requirement already satisfied: nltk in /Users/bagussatya/anaconda3/lib/python3.11/site-packages (3.8.1)\n",
      "Requirement already satisfied: click in /Users/bagussatya/anaconda3/lib/python3.11/site-packages (from nltk) (8.0.4)\n",
      "Requirement already satisfied: joblib in /Users/bagussatya/anaconda3/lib/python3.11/site-packages (from nltk) (1.2.0)\n",
      "Requirement already satisfied: regex>=2021.8.3 in /Users/bagussatya/anaconda3/lib/python3.11/site-packages (from nltk) (2022.7.9)\n",
      "Requirement already satisfied: tqdm in /Users/bagussatya/anaconda3/lib/python3.11/site-packages (from nltk) (4.65.0)\n"
     ]
    }
   ],
   "source": [
    "# General text-processing using NLTK\n",
    "!pip install nltk"
   ]
  },
  {
   "cell_type": "code",
   "execution_count": 2,
   "id": "f400fe1e-0b90-42b5-bfbe-c685beb1b0b3",
   "metadata": {
    "tags": []
   },
   "outputs": [
    {
     "name": "stdout",
     "output_type": "stream",
     "text": [
      "Requirement already satisfied: regex in /Users/bagussatya/anaconda3/lib/python3.11/site-packages (2022.7.9)\n"
     ]
    }
   ],
   "source": [
    "# Puncuation Removal using REGEX\n",
    "!pip install regex"
   ]
  },
  {
   "cell_type": "code",
   "execution_count": 3,
   "id": "74ee520b-dccc-4e37-9fcb-877709b50988",
   "metadata": {
    "tags": []
   },
   "outputs": [
    {
     "name": "stdout",
     "output_type": "stream",
     "text": [
      "Requirement already satisfied: scikit-learn in /Users/bagussatya/anaconda3/lib/python3.11/site-packages (1.3.0)\n",
      "Requirement already satisfied: numpy>=1.17.3 in /Users/bagussatya/anaconda3/lib/python3.11/site-packages (from scikit-learn) (1.24.3)\n",
      "Requirement already satisfied: scipy>=1.5.0 in /Users/bagussatya/anaconda3/lib/python3.11/site-packages (from scikit-learn) (1.10.1)\n",
      "Requirement already satisfied: joblib>=1.1.1 in /Users/bagussatya/anaconda3/lib/python3.11/site-packages (from scikit-learn) (1.2.0)\n",
      "Requirement already satisfied: threadpoolctl>=2.0.0 in /Users/bagussatya/anaconda3/lib/python3.11/site-packages (from scikit-learn) (2.2.0)\n"
     ]
    }
   ],
   "source": [
    "# TF-IDF Algorithm using sklearn\n",
    "!pip install scikit-learn"
   ]
  },
  {
   "cell_type": "code",
   "execution_count": 4,
   "id": "fb9c50a9-3947-4a0e-9536-582211ae19b2",
   "metadata": {
    "tags": []
   },
   "outputs": [
    {
     "name": "stdout",
     "output_type": "stream",
     "text": [
      "Requirement already satisfied: numpy in /Users/bagussatya/anaconda3/lib/python3.11/site-packages (1.24.3)\n"
     ]
    }
   ],
   "source": [
    "# Numpy for numerical manipulation\n",
    "!pip install numpy"
   ]
  },
  {
   "cell_type": "code",
   "execution_count": 5,
   "id": "c0c433f2-ee8e-4213-942d-fda538cc34d0",
   "metadata": {
    "tags": []
   },
   "outputs": [
    {
     "name": "stdout",
     "output_type": "stream",
     "text": [
      "Requirement already satisfied: pandas in /Users/bagussatya/anaconda3/lib/python3.11/site-packages (1.5.3)\n",
      "Requirement already satisfied: python-dateutil>=2.8.1 in /Users/bagussatya/anaconda3/lib/python3.11/site-packages (from pandas) (2.8.2)\n",
      "Requirement already satisfied: pytz>=2020.1 in /Users/bagussatya/anaconda3/lib/python3.11/site-packages (from pandas) (2022.7)\n",
      "Requirement already satisfied: numpy>=1.21.0 in /Users/bagussatya/anaconda3/lib/python3.11/site-packages (from pandas) (1.24.3)\n",
      "Requirement already satisfied: six>=1.5 in /Users/bagussatya/anaconda3/lib/python3.11/site-packages (from python-dateutil>=2.8.1->pandas) (1.16.0)\n"
     ]
    }
   ],
   "source": [
    "# Dataframe manipulation using Pandas\n",
    "!pip install pandas"
   ]
  },
  {
   "cell_type": "markdown",
   "id": "c8491ea5-52d7-4234-aeca-ec784f1b5fa3",
   "metadata": {},
   "source": [
    "### Initiation of the library used"
   ]
  },
  {
   "cell_type": "code",
   "execution_count": 6,
   "id": "6f0a4043-16b3-4fcd-9904-f236883be2eb",
   "metadata": {
    "tags": []
   },
   "outputs": [],
   "source": [
    "import numpy as np\n",
    "import pandas as pd\n",
    "\n",
    "import regex as re\n",
    "from nltk.tokenize import sent_tokenize, word_tokenize\n",
    "from nltk.corpus import stopwords\n",
    "from nltk.stem import PorterStemmer\n",
    "\n",
    "from sklearn.feature_extraction.text import TfidfVectorizer"
   ]
  },
  {
   "cell_type": "markdown",
   "id": "87c45b51-24de-4d40-baf4-e948d6ecf05d",
   "metadata": {},
   "source": [
    "### Importing the dataset used on this project"
   ]
  },
  {
   "cell_type": "code",
   "execution_count": 7,
   "id": "bb2efd8d-ec7a-4c3b-89fb-ea7819200831",
   "metadata": {
    "tags": []
   },
   "outputs": [
    {
     "data": {
      "text/html": [
       "<div>\n",
       "<style scoped>\n",
       "    .dataframe tbody tr th:only-of-type {\n",
       "        vertical-align: middle;\n",
       "    }\n",
       "\n",
       "    .dataframe tbody tr th {\n",
       "        vertical-align: top;\n",
       "    }\n",
       "\n",
       "    .dataframe thead th {\n",
       "        text-align: right;\n",
       "    }\n",
       "</style>\n",
       "<table border=\"1\" class=\"dataframe\">\n",
       "  <thead>\n",
       "    <tr style=\"text-align: right;\">\n",
       "      <th></th>\n",
       "      <th>id</th>\n",
       "      <th>text</th>\n",
       "      <th>topic</th>\n",
       "    </tr>\n",
       "  </thead>\n",
       "  <tbody>\n",
       "    <tr>\n",
       "      <th>0</th>\n",
       "      <td>ENG1</td>\n",
       "      <td>They called him a bird, because of his habit</td>\n",
       "      <td>bird</td>\n",
       "    </tr>\n",
       "    <tr>\n",
       "      <th>1</th>\n",
       "      <td>ENG2</td>\n",
       "      <td>My brother likes bird and after a month my father gave him a black bird</td>\n",
       "      <td>bird</td>\n",
       "    </tr>\n",
       "    <tr>\n",
       "      <th>2</th>\n",
       "      <td>ENG3</td>\n",
       "      <td>Antony has a bird and he lost it</td>\n",
       "      <td>bird</td>\n",
       "    </tr>\n",
       "    <tr>\n",
       "      <th>3</th>\n",
       "      <td>ENG4</td>\n",
       "      <td>Greedy is the most characteristic that I hate</td>\n",
       "      <td>hate</td>\n",
       "    </tr>\n",
       "    <tr>\n",
       "      <th>4</th>\n",
       "      <td>ENG5</td>\n",
       "      <td>Bird has two wings and two legs</td>\n",
       "      <td>bird</td>\n",
       "    </tr>\n",
       "    <tr>\n",
       "      <th>5</th>\n",
       "      <td>ENG6</td>\n",
       "      <td>As sustainability becomes a key focus in consumer electronics, Nokia sets itself apart by prioritizing eco-friendly practices in its manufacturing processes, aligning with the growing demand for ethically sourced and recyclable mobile devices.</td>\n",
       "      <td>nokia</td>\n",
       "    </tr>\n",
       "    <tr>\n",
       "      <th>6</th>\n",
       "      <td>ENG7</td>\n",
       "      <td>With the advent of augmented reality applications, smartphones like the iPhone are transforming into versatile tools that blur the lines between digital and physical realms, offering users immersive experiences previously unimaginable.</td>\n",
       "      <td>smartphone</td>\n",
       "    </tr>\n",
       "    <tr>\n",
       "      <th>7</th>\n",
       "      <td>ENG8</td>\n",
       "      <td>As smartphone manufacturers strive for market dominance, the iPhone distinguishes itself with its seamless ecosystem, where integration between hardware, software, and services creates a cohesive user experience unparalleled by its competitors.</td>\n",
       "      <td>smartphone</td>\n",
       "    </tr>\n",
       "    <tr>\n",
       "      <th>8</th>\n",
       "      <td>ENG9</td>\n",
       "      <td>In an era where privacy concerns loom large, the iPhone stands out for its robust security features, providing users with peace of mind amidst growing threats to personal data on smartphones.</td>\n",
       "      <td>smartphone</td>\n",
       "    </tr>\n",
       "    <tr>\n",
       "      <th>9</th>\n",
       "      <td>ENG10</td>\n",
       "      <td>Nokia, once synonymous with mobile innovation, is undergoing a resurgence in the telecommunications industry, leveraging its heritage to reintroduce iconic designs infused with modern technological advancements.</td>\n",
       "      <td>nokia</td>\n",
       "    </tr>\n",
       "    <tr>\n",
       "      <th>10</th>\n",
       "      <td>ENG11</td>\n",
       "      <td>Cellular biology research has uncovered intricate mechanisms governing cell signaling pathways, shedding light on fundamental processes crucial for understanding human health and disease.</td>\n",
       "      <td>cell</td>\n",
       "    </tr>\n",
       "    <tr>\n",
       "      <th>11</th>\n",
       "      <td>ENG12</td>\n",
       "      <td>In neurobiology, elucidating the neural circuitry underlying learning and memory requires precise manipulation of neural cells, prompting the development of innovative techniques for cell manipulation and recording.</td>\n",
       "      <td>cell</td>\n",
       "    </tr>\n",
       "    <tr>\n",
       "      <th>12</th>\n",
       "      <td>ENG13</td>\n",
       "      <td>Environmental scientists examine the ecological footprint of beverage production, assessing the sustainability of water usage and packaging materials to mitigate the environmental impact of manufacturing popular drinks such as soda and bottled water.</td>\n",
       "      <td>drink</td>\n",
       "    </tr>\n",
       "    <tr>\n",
       "      <th>13</th>\n",
       "      <td>ENG14</td>\n",
       "      <td>In certain professions, such as bartending and hospitality, mastering the art of mixology is essential, as it requires a nuanced understanding of how different ingredients interact to create a harmonious and flavorful drink experience.</td>\n",
       "      <td>drink</td>\n",
       "    </tr>\n",
       "    <tr>\n",
       "      <th>14</th>\n",
       "      <td>ENG15</td>\n",
       "      <td>During social gatherings, individuals often find themselves compelled to drink excessively, unaware of the potential consequences such as impaired judgment and dehydration.</td>\n",
       "      <td>drink</td>\n",
       "    </tr>\n",
       "  </tbody>\n",
       "</table>\n",
       "</div>"
      ],
      "text/plain": [
       "       id                                                                                                                                                                                                                                                        text       topic\n",
       "0    ENG1                                                                                                                                                                                                                They called him a bird, because of his habit        bird\n",
       "1    ENG2                                                                                                                                                                                     My brother likes bird and after a month my father gave him a black bird        bird\n",
       "2    ENG3                                                                                                                                                                                                                            Antony has a bird and he lost it        bird\n",
       "3    ENG4                                                                                                                                                                                                               Greedy is the most characteristic that I hate        hate\n",
       "4    ENG5                                                                                                                                                                                                                             Bird has two wings and two legs        bird\n",
       "5    ENG6         As sustainability becomes a key focus in consumer electronics, Nokia sets itself apart by prioritizing eco-friendly practices in its manufacturing processes, aligning with the growing demand for ethically sourced and recyclable mobile devices.       nokia\n",
       "6    ENG7                 With the advent of augmented reality applications, smartphones like the iPhone are transforming into versatile tools that blur the lines between digital and physical realms, offering users immersive experiences previously unimaginable.  smartphone\n",
       "7    ENG8        As smartphone manufacturers strive for market dominance, the iPhone distinguishes itself with its seamless ecosystem, where integration between hardware, software, and services creates a cohesive user experience unparalleled by its competitors.  smartphone\n",
       "8    ENG9                                                             In an era where privacy concerns loom large, the iPhone stands out for its robust security features, providing users with peace of mind amidst growing threats to personal data on smartphones.  smartphone\n",
       "9   ENG10                                         Nokia, once synonymous with mobile innovation, is undergoing a resurgence in the telecommunications industry, leveraging its heritage to reintroduce iconic designs infused with modern technological advancements.       nokia\n",
       "10  ENG11                                                                 Cellular biology research has uncovered intricate mechanisms governing cell signaling pathways, shedding light on fundamental processes crucial for understanding human health and disease.        cell\n",
       "11  ENG12                                     In neurobiology, elucidating the neural circuitry underlying learning and memory requires precise manipulation of neural cells, prompting the development of innovative techniques for cell manipulation and recording.        cell\n",
       "12  ENG13  Environmental scientists examine the ecological footprint of beverage production, assessing the sustainability of water usage and packaging materials to mitigate the environmental impact of manufacturing popular drinks such as soda and bottled water.       drink\n",
       "13  ENG14                 In certain professions, such as bartending and hospitality, mastering the art of mixology is essential, as it requires a nuanced understanding of how different ingredients interact to create a harmonious and flavorful drink experience.       drink\n",
       "14  ENG15                                                                                During social gatherings, individuals often find themselves compelled to drink excessively, unaware of the potential consequences such as impaired judgment and dehydration.       drink"
      ]
     },
     "execution_count": 7,
     "metadata": {},
     "output_type": "execute_result"
    }
   ],
   "source": [
    "pd.set_option('display.max_columns', None)\n",
    "pd.set_option('display.expand_frame_repr', False)\n",
    "pd.set_option('display.max_colwidth', 1000)\n",
    "\n",
    "dataset = pd.read_csv('corpus-inggris.csv')\n",
    "dataset"
   ]
  },
  {
   "cell_type": "markdown",
   "id": "75d68693-333b-4d36-81ea-b993ab1c2c50",
   "metadata": {
    "tags": []
   },
   "source": [
    "### Function Support"
   ]
  },
  {
   "cell_type": "code",
   "execution_count": 8,
   "id": "c234e587-8afa-48f8-be0c-4441f08f3b8c",
   "metadata": {
    "tags": []
   },
   "outputs": [],
   "source": [
    "def listToString(s):\n",
    "    str1 = \" \"\n",
    "    return (str1.join(s))"
   ]
  },
  {
   "cell_type": "markdown",
   "id": "c3161d3b-6bbf-4a90-a0dc-b1dfd7ee2b3d",
   "metadata": {},
   "source": [
    "### Text Pre-processing"
   ]
  },
  {
   "cell_type": "code",
   "execution_count": 9,
   "id": "dd35b431-279d-4dc6-bde3-69556a01a2cb",
   "metadata": {
    "tags": []
   },
   "outputs": [],
   "source": [
    "text = dataset.text.to_list()"
   ]
  },
  {
   "cell_type": "code",
   "execution_count": 10,
   "id": "3d4b47e3-971c-46af-a064-d15b3a786695",
   "metadata": {
    "tags": []
   },
   "outputs": [
    {
     "data": {
      "text/html": [
       "<div>\n",
       "<style scoped>\n",
       "    .dataframe tbody tr th:only-of-type {\n",
       "        vertical-align: middle;\n",
       "    }\n",
       "\n",
       "    .dataframe tbody tr th {\n",
       "        vertical-align: top;\n",
       "    }\n",
       "\n",
       "    .dataframe thead th {\n",
       "        text-align: right;\n",
       "    }\n",
       "</style>\n",
       "<table border=\"1\" class=\"dataframe\">\n",
       "  <thead>\n",
       "    <tr style=\"text-align: right;\">\n",
       "      <th></th>\n",
       "      <th>0</th>\n",
       "    </tr>\n",
       "  </thead>\n",
       "  <tbody>\n",
       "    <tr>\n",
       "      <th>0</th>\n",
       "      <td>They called him a bird, because of his habit</td>\n",
       "    </tr>\n",
       "    <tr>\n",
       "      <th>1</th>\n",
       "      <td>My brother likes bird and after a month my father gave him a black bird</td>\n",
       "    </tr>\n",
       "    <tr>\n",
       "      <th>2</th>\n",
       "      <td>Antony has a bird and he lost it</td>\n",
       "    </tr>\n",
       "    <tr>\n",
       "      <th>3</th>\n",
       "      <td>Greedy is the most characteristic that I hate</td>\n",
       "    </tr>\n",
       "    <tr>\n",
       "      <th>4</th>\n",
       "      <td>Bird has two wings and two legs</td>\n",
       "    </tr>\n",
       "    <tr>\n",
       "      <th>5</th>\n",
       "      <td>As sustainability becomes a key focus in consumer electronics, Nokia sets itself apart by prioritizing eco-friendly practices in its manufacturing processes, aligning with the growing demand for ethically sourced and recyclable mobile devices.</td>\n",
       "    </tr>\n",
       "    <tr>\n",
       "      <th>6</th>\n",
       "      <td>With the advent of augmented reality applications, smartphones like the iPhone are transforming into versatile tools that blur the lines between digital and physical realms, offering users immersive experiences previously unimaginable.</td>\n",
       "    </tr>\n",
       "    <tr>\n",
       "      <th>7</th>\n",
       "      <td>As smartphone manufacturers strive for market dominance, the iPhone distinguishes itself with its seamless ecosystem, where integration between hardware, software, and services creates a cohesive user experience unparalleled by its competitors.</td>\n",
       "    </tr>\n",
       "    <tr>\n",
       "      <th>8</th>\n",
       "      <td>In an era where privacy concerns loom large, the iPhone stands out for its robust security features, providing users with peace of mind amidst growing threats to personal data on smartphones.</td>\n",
       "    </tr>\n",
       "    <tr>\n",
       "      <th>9</th>\n",
       "      <td>Nokia, once synonymous with mobile innovation, is undergoing a resurgence in the telecommunications industry, leveraging its heritage to reintroduce iconic designs infused with modern technological advancements.</td>\n",
       "    </tr>\n",
       "    <tr>\n",
       "      <th>10</th>\n",
       "      <td>Cellular biology research has uncovered intricate mechanisms governing cell signaling pathways, shedding light on fundamental processes crucial for understanding human health and disease.</td>\n",
       "    </tr>\n",
       "    <tr>\n",
       "      <th>11</th>\n",
       "      <td>In neurobiology, elucidating the neural circuitry underlying learning and memory requires precise manipulation of neural cells, prompting the development of innovative techniques for cell manipulation and recording.</td>\n",
       "    </tr>\n",
       "    <tr>\n",
       "      <th>12</th>\n",
       "      <td>Environmental scientists examine the ecological footprint of beverage production, assessing the sustainability of water usage and packaging materials to mitigate the environmental impact of manufacturing popular drinks such as soda and bottled water.</td>\n",
       "    </tr>\n",
       "    <tr>\n",
       "      <th>13</th>\n",
       "      <td>In certain professions, such as bartending and hospitality, mastering the art of mixology is essential, as it requires a nuanced understanding of how different ingredients interact to create a harmonious and flavorful drink experience.</td>\n",
       "    </tr>\n",
       "    <tr>\n",
       "      <th>14</th>\n",
       "      <td>During social gatherings, individuals often find themselves compelled to drink excessively, unaware of the potential consequences such as impaired judgment and dehydration.</td>\n",
       "    </tr>\n",
       "  </tbody>\n",
       "</table>\n",
       "</div>"
      ],
      "text/plain": [
       "                                                                                                                                                                                                                                                             0\n",
       "0                                                                                                                                                                                                                 They called him a bird, because of his habit\n",
       "1                                                                                                                                                                                      My brother likes bird and after a month my father gave him a black bird\n",
       "2                                                                                                                                                                                                                             Antony has a bird and he lost it\n",
       "3                                                                                                                                                                                                                Greedy is the most characteristic that I hate\n",
       "4                                                                                                                                                                                                                              Bird has two wings and two legs\n",
       "5          As sustainability becomes a key focus in consumer electronics, Nokia sets itself apart by prioritizing eco-friendly practices in its manufacturing processes, aligning with the growing demand for ethically sourced and recyclable mobile devices.\n",
       "6                  With the advent of augmented reality applications, smartphones like the iPhone are transforming into versatile tools that blur the lines between digital and physical realms, offering users immersive experiences previously unimaginable.\n",
       "7         As smartphone manufacturers strive for market dominance, the iPhone distinguishes itself with its seamless ecosystem, where integration between hardware, software, and services creates a cohesive user experience unparalleled by its competitors.\n",
       "8                                                              In an era where privacy concerns loom large, the iPhone stands out for its robust security features, providing users with peace of mind amidst growing threats to personal data on smartphones.\n",
       "9                                          Nokia, once synonymous with mobile innovation, is undergoing a resurgence in the telecommunications industry, leveraging its heritage to reintroduce iconic designs infused with modern technological advancements.\n",
       "10                                                                 Cellular biology research has uncovered intricate mechanisms governing cell signaling pathways, shedding light on fundamental processes crucial for understanding human health and disease.\n",
       "11                                     In neurobiology, elucidating the neural circuitry underlying learning and memory requires precise manipulation of neural cells, prompting the development of innovative techniques for cell manipulation and recording.\n",
       "12  Environmental scientists examine the ecological footprint of beverage production, assessing the sustainability of water usage and packaging materials to mitigate the environmental impact of manufacturing popular drinks such as soda and bottled water.\n",
       "13                 In certain professions, such as bartending and hospitality, mastering the art of mixology is essential, as it requires a nuanced understanding of how different ingredients interact to create a harmonious and flavorful drink experience.\n",
       "14                                                                                During social gatherings, individuals often find themselves compelled to drink excessively, unaware of the potential consequences such as impaired judgment and dehydration."
      ]
     },
     "execution_count": 10,
     "metadata": {},
     "output_type": "execute_result"
    }
   ],
   "source": [
    "pd.DataFrame(text)"
   ]
  },
  {
   "cell_type": "markdown",
   "id": "71002c80-d2ce-4114-adb1-c1254972c8a0",
   "metadata": {
    "tags": []
   },
   "source": [
    "#### Data Cleaning\n",
    "This process has a purpose to **remove the punctuation** and **normalize the word lettering to lowercase.**"
   ]
  },
  {
   "cell_type": "code",
   "execution_count": 11,
   "id": "ab822146-fbbe-488b-856e-2a4ad5cd0c20",
   "metadata": {
    "tags": []
   },
   "outputs": [
    {
     "name": "stdout",
     "output_type": "stream",
     "text": [
      "['they called him a bird because of his habit', 'my brother likes bird and after a month my father gave him a black bird', 'antony has a bird and he lost it', 'greedy is the most characteristic that i hate', 'bird has two wings and two legs', 'as sustainability becomes a key focus in consumer electronics nokia sets itself apart by prioritizing ecofriendly practices in its manufacturing processes aligning with the growing demand for ethically sourced and recyclable mobile devices', 'with the advent of augmented reality applications smartphones like the iphone are transforming into versatile tools that blur the lines between digital and physical realms offering users immersive experiences previously unimaginable', 'as smartphone manufacturers strive for market dominance the iphone distinguishes itself with its seamless ecosystem where integration between hardware software and services creates a cohesive user experience unparalleled by its competitors', 'in an era where privacy concerns loom large the iphone stands out for its robust security features providing users with peace of mind amidst growing threats to personal data on smartphones', 'nokia once synonymous with mobile innovation is undergoing a resurgence in the telecommunications industry leveraging its heritage to reintroduce iconic designs infused with modern technological advancements', 'cellular biology research has uncovered intricate mechanisms governing cell signaling pathways shedding light on fundamental processes crucial for understanding human health and disease', 'in neurobiology elucidating the neural circuitry underlying learning and memory requires precise manipulation of neural cells prompting the development of innovative techniques for cell manipulation and recording', 'environmental scientists examine the ecological footprint of beverage production assessing the sustainability of water usage and packaging materials to mitigate the environmental impact of manufacturing popular drinks such as soda and bottled water', 'in certain professions such as bartending and hospitality mastering the art of mixology is essential as it requires a nuanced understanding of how different ingredients interact to create a harmonious and flavorful drink experience', 'during social gatherings individuals often find themselves compelled to drink excessively unaware of the potential consequences such as impaired judgment and dehydration']\n"
     ]
    }
   ],
   "source": [
    "clean_text = []\n",
    "for index, teks in enumerate(text):\n",
    "    clean = re.sub(r'[^\\w\\s]','',teks.lower())\n",
    "    clean_text.append(clean)\n",
    "print(clean_text, sep=', ')"
   ]
  },
  {
   "cell_type": "markdown",
   "id": "ddc69eae-314d-47b7-96df-dbcf2051b105",
   "metadata": {},
   "source": [
    "#### Sentence Tokenizing\n",
    "This process has a purpose to split each corpus data into its different sentence form."
   ]
  },
  {
   "cell_type": "code",
   "execution_count": 12,
   "id": "772c86da-cc02-45f1-b0cd-3d7644d37b3b",
   "metadata": {
    "tags": []
   },
   "outputs": [
    {
     "name": "stdout",
     "output_type": "stream",
     "text": [
      "[['they called him a bird because of his habit'], ['my brother likes bird and after a month my father gave him a black bird'], ['antony has a bird and he lost it'], ['greedy is the most characteristic that i hate'], ['bird has two wings and two legs'], ['as sustainability becomes a key focus in consumer electronics nokia sets itself apart by prioritizing ecofriendly practices in its manufacturing processes aligning with the growing demand for ethically sourced and recyclable mobile devices'], ['with the advent of augmented reality applications smartphones like the iphone are transforming into versatile tools that blur the lines between digital and physical realms offering users immersive experiences previously unimaginable'], ['as smartphone manufacturers strive for market dominance the iphone distinguishes itself with its seamless ecosystem where integration between hardware software and services creates a cohesive user experience unparalleled by its competitors'], ['in an era where privacy concerns loom large the iphone stands out for its robust security features providing users with peace of mind amidst growing threats to personal data on smartphones'], ['nokia once synonymous with mobile innovation is undergoing a resurgence in the telecommunications industry leveraging its heritage to reintroduce iconic designs infused with modern technological advancements'], ['cellular biology research has uncovered intricate mechanisms governing cell signaling pathways shedding light on fundamental processes crucial for understanding human health and disease'], ['in neurobiology elucidating the neural circuitry underlying learning and memory requires precise manipulation of neural cells prompting the development of innovative techniques for cell manipulation and recording'], ['environmental scientists examine the ecological footprint of beverage production assessing the sustainability of water usage and packaging materials to mitigate the environmental impact of manufacturing popular drinks such as soda and bottled water'], ['in certain professions such as bartending and hospitality mastering the art of mixology is essential as it requires a nuanced understanding of how different ingredients interact to create a harmonious and flavorful drink experience'], ['during social gatherings individuals often find themselves compelled to drink excessively unaware of the potential consequences such as impaired judgment and dehydration']]\n"
     ]
    }
   ],
   "source": [
    "split_sentences = []\n",
    "for index, teks in enumerate(clean_text):\n",
    "    sentences = sent_tokenize(teks)\n",
    "    split_sentences.append(sentences)\n",
    "print(split_sentences, sep=', ')"
   ]
  },
  {
   "cell_type": "markdown",
   "id": "1a0d6a48-8070-4230-a8d9-c3c9175d01ef",
   "metadata": {},
   "source": [
    "#### Word Tokenizing\n",
    "This process has a purpose to split each sentences data into its different words form."
   ]
  },
  {
   "cell_type": "code",
   "execution_count": 13,
   "id": "32a815c0-2be4-457f-8666-4ab5ad2ec252",
   "metadata": {
    "tags": []
   },
   "outputs": [
    {
     "name": "stdout",
     "output_type": "stream",
     "text": [
      "[['they', 'called', 'him', 'a', 'bird', 'because', 'of', 'his', 'habit'], ['my', 'brother', 'likes', 'bird', 'and', 'after', 'a', 'month', 'my', 'father', 'gave', 'him', 'a', 'black', 'bird'], ['antony', 'has', 'a', 'bird', 'and', 'he', 'lost', 'it'], ['greedy', 'is', 'the', 'most', 'characteristic', 'that', 'i', 'hate'], ['bird', 'has', 'two', 'wings', 'and', 'two', 'legs'], ['as', 'sustainability', 'becomes', 'a', 'key', 'focus', 'in', 'consumer', 'electronics', 'nokia', 'sets', 'itself', 'apart', 'by', 'prioritizing', 'ecofriendly', 'practices', 'in', 'its', 'manufacturing', 'processes', 'aligning', 'with', 'the', 'growing', 'demand', 'for', 'ethically', 'sourced', 'and', 'recyclable', 'mobile', 'devices'], ['with', 'the', 'advent', 'of', 'augmented', 'reality', 'applications', 'smartphones', 'like', 'the', 'iphone', 'are', 'transforming', 'into', 'versatile', 'tools', 'that', 'blur', 'the', 'lines', 'between', 'digital', 'and', 'physical', 'realms', 'offering', 'users', 'immersive', 'experiences', 'previously', 'unimaginable'], ['as', 'smartphone', 'manufacturers', 'strive', 'for', 'market', 'dominance', 'the', 'iphone', 'distinguishes', 'itself', 'with', 'its', 'seamless', 'ecosystem', 'where', 'integration', 'between', 'hardware', 'software', 'and', 'services', 'creates', 'a', 'cohesive', 'user', 'experience', 'unparalleled', 'by', 'its', 'competitors'], ['in', 'an', 'era', 'where', 'privacy', 'concerns', 'loom', 'large', 'the', 'iphone', 'stands', 'out', 'for', 'its', 'robust', 'security', 'features', 'providing', 'users', 'with', 'peace', 'of', 'mind', 'amidst', 'growing', 'threats', 'to', 'personal', 'data', 'on', 'smartphones'], ['nokia', 'once', 'synonymous', 'with', 'mobile', 'innovation', 'is', 'undergoing', 'a', 'resurgence', 'in', 'the', 'telecommunications', 'industry', 'leveraging', 'its', 'heritage', 'to', 'reintroduce', 'iconic', 'designs', 'infused', 'with', 'modern', 'technological', 'advancements'], ['cellular', 'biology', 'research', 'has', 'uncovered', 'intricate', 'mechanisms', 'governing', 'cell', 'signaling', 'pathways', 'shedding', 'light', 'on', 'fundamental', 'processes', 'crucial', 'for', 'understanding', 'human', 'health', 'and', 'disease'], ['in', 'neurobiology', 'elucidating', 'the', 'neural', 'circuitry', 'underlying', 'learning', 'and', 'memory', 'requires', 'precise', 'manipulation', 'of', 'neural', 'cells', 'prompting', 'the', 'development', 'of', 'innovative', 'techniques', 'for', 'cell', 'manipulation', 'and', 'recording'], ['environmental', 'scientists', 'examine', 'the', 'ecological', 'footprint', 'of', 'beverage', 'production', 'assessing', 'the', 'sustainability', 'of', 'water', 'usage', 'and', 'packaging', 'materials', 'to', 'mitigate', 'the', 'environmental', 'impact', 'of', 'manufacturing', 'popular', 'drinks', 'such', 'as', 'soda', 'and', 'bottled', 'water'], ['in', 'certain', 'professions', 'such', 'as', 'bartending', 'and', 'hospitality', 'mastering', 'the', 'art', 'of', 'mixology', 'is', 'essential', 'as', 'it', 'requires', 'a', 'nuanced', 'understanding', 'of', 'how', 'different', 'ingredients', 'interact', 'to', 'create', 'a', 'harmonious', 'and', 'flavorful', 'drink', 'experience'], ['during', 'social', 'gatherings', 'individuals', 'often', 'find', 'themselves', 'compelled', 'to', 'drink', 'excessively', 'unaware', 'of', 'the', 'potential', 'consequences', 'such', 'as', 'impaired', 'judgment', 'and', 'dehydration']]\n"
     ]
    }
   ],
   "source": [
    "split_words = []\n",
    "for index, sentence in enumerate(split_sentences):\n",
    "    words = word_tokenize(listToString(split_sentences[index]))\n",
    "    split_words.append(words)\n",
    "print(split_words, sep=', ')"
   ]
  },
  {
   "cell_type": "markdown",
   "id": "bfc50f58-d1d3-420e-920b-2fd9ef69e27c",
   "metadata": {},
   "source": [
    "#### Implementing Stop Words in English\n",
    "Below is the stopwords used for this project that available using nltk.corpus library"
   ]
  },
  {
   "cell_type": "code",
   "execution_count": 14,
   "id": "5241d38e-0240-4161-8d11-cefc3e9a3235",
   "metadata": {
    "tags": []
   },
   "outputs": [
    {
     "name": "stdout",
     "output_type": "stream",
     "text": [
      "179 stopwords in english:\n",
      " ['i', 'me', 'my', 'myself', 'we', 'our', 'ours', 'ourselves', 'you', \"you're\", \"you've\", \"you'll\", \"you'd\", 'your', 'yours', 'yourself', 'yourselves', 'he', 'him', 'his', 'himself', 'she', \"she's\", 'her', 'hers', 'herself', 'it', \"it's\", 'its', 'itself', 'they', 'them', 'their', 'theirs', 'themselves', 'what', 'which', 'who', 'whom', 'this', 'that', \"that'll\", 'these', 'those', 'am', 'is', 'are', 'was', 'were', 'be', 'been', 'being', 'have', 'has', 'had', 'having', 'do', 'does', 'did', 'doing', 'a', 'an', 'the', 'and', 'but', 'if', 'or', 'because', 'as', 'until', 'while', 'of', 'at', 'by', 'for', 'with', 'about', 'against', 'between', 'into', 'through', 'during', 'before', 'after', 'above', 'below', 'to', 'from', 'up', 'down', 'in', 'out', 'on', 'off', 'over', 'under', 'again', 'further', 'then', 'once', 'here', 'there', 'when', 'where', 'why', 'how', 'all', 'any', 'both', 'each', 'few', 'more', 'most', 'other', 'some', 'such', 'no', 'nor', 'not', 'only', 'own', 'same', 'so', 'than', 'too', 'very', 's', 't', 'can', 'will', 'just', 'don', \"don't\", 'should', \"should've\", 'now', 'd', 'll', 'm', 'o', 're', 've', 'y', 'ain', 'aren', \"aren't\", 'couldn', \"couldn't\", 'didn', \"didn't\", 'doesn', \"doesn't\", 'hadn', \"hadn't\", 'hasn', \"hasn't\", 'haven', \"haven't\", 'isn', \"isn't\", 'ma', 'mightn', \"mightn't\", 'mustn', \"mustn't\", 'needn', \"needn't\", 'shan', \"shan't\", 'shouldn', \"shouldn't\", 'wasn', \"wasn't\", 'weren', \"weren't\", 'won', \"won't\", 'wouldn', \"wouldn't\"]\n"
     ]
    }
   ],
   "source": [
    "english_stop = stopwords.words('english')\n",
    "print(len(english_stop), \"stopwords in english:\\n\", english_stop)"
   ]
  },
  {
   "cell_type": "markdown",
   "id": "27aa7f87-9393-4422-81a7-a0f63223246f",
   "metadata": {},
   "source": [
    "The process of implementing the stop words into the dataset "
   ]
  },
  {
   "cell_type": "code",
   "execution_count": 15,
   "id": "75535d17-c39d-41d5-8b20-bd897041976c",
   "metadata": {
    "tags": []
   },
   "outputs": [
    {
     "name": "stdout",
     "output_type": "stream",
     "text": [
      "[['called', 'bird', 'habit'], ['brother', 'likes', 'bird', 'month', 'father', 'gave', 'black', 'bird'], ['antony', 'bird', 'lost'], ['greedy', 'characteristic', 'hate'], ['bird', 'two', 'wings', 'two', 'legs'], ['sustainability', 'becomes', 'key', 'focus', 'consumer', 'electronics', 'nokia', 'sets', 'apart', 'prioritizing', 'ecofriendly', 'practices', 'manufacturing', 'processes', 'aligning', 'growing', 'demand', 'ethically', 'sourced', 'recyclable', 'mobile', 'devices'], ['advent', 'augmented', 'reality', 'applications', 'smartphones', 'like', 'iphone', 'transforming', 'versatile', 'tools', 'blur', 'lines', 'digital', 'physical', 'realms', 'offering', 'users', 'immersive', 'experiences', 'previously', 'unimaginable'], ['smartphone', 'manufacturers', 'strive', 'market', 'dominance', 'iphone', 'distinguishes', 'seamless', 'ecosystem', 'integration', 'hardware', 'software', 'services', 'creates', 'cohesive', 'user', 'experience', 'unparalleled', 'competitors'], ['era', 'privacy', 'concerns', 'loom', 'large', 'iphone', 'stands', 'robust', 'security', 'features', 'providing', 'users', 'peace', 'mind', 'amidst', 'growing', 'threats', 'personal', 'data', 'smartphones'], ['nokia', 'synonymous', 'mobile', 'innovation', 'undergoing', 'resurgence', 'telecommunications', 'industry', 'leveraging', 'heritage', 'reintroduce', 'iconic', 'designs', 'infused', 'modern', 'technological', 'advancements'], ['cellular', 'biology', 'research', 'uncovered', 'intricate', 'mechanisms', 'governing', 'cell', 'signaling', 'pathways', 'shedding', 'light', 'fundamental', 'processes', 'crucial', 'understanding', 'human', 'health', 'disease'], ['neurobiology', 'elucidating', 'neural', 'circuitry', 'underlying', 'learning', 'memory', 'requires', 'precise', 'manipulation', 'neural', 'cells', 'prompting', 'development', 'innovative', 'techniques', 'cell', 'manipulation', 'recording'], ['environmental', 'scientists', 'examine', 'ecological', 'footprint', 'beverage', 'production', 'assessing', 'sustainability', 'water', 'usage', 'packaging', 'materials', 'mitigate', 'environmental', 'impact', 'manufacturing', 'popular', 'drinks', 'soda', 'bottled', 'water'], ['certain', 'professions', 'bartending', 'hospitality', 'mastering', 'art', 'mixology', 'essential', 'requires', 'nuanced', 'understanding', 'different', 'ingredients', 'interact', 'create', 'harmonious', 'flavorful', 'drink', 'experience'], ['social', 'gatherings', 'individuals', 'often', 'find', 'compelled', 'drink', 'excessively', 'unaware', 'potential', 'consequences', 'impaired', 'judgment', 'dehydration']]\n"
     ]
    }
   ],
   "source": [
    "split_stop = []\n",
    "for index, words in enumerate(split_words):\n",
    "    wordsFiltered = [w for w in words if w not in english_stop]\n",
    "    split_stop.append(wordsFiltered)\n",
    "print(split_stop, sep=', ')"
   ]
  },
  {
   "cell_type": "markdown",
   "id": "902403e7-45ea-4054-8c01-8cb4668dd302",
   "metadata": {},
   "source": [
    "#### Stemming"
   ]
  },
  {
   "cell_type": "code",
   "execution_count": 16,
   "id": "38d010e7-a02e-4cbc-8837-e801266dea27",
   "metadata": {
    "tags": []
   },
   "outputs": [],
   "source": [
    "st = PorterStemmer()"
   ]
  },
  {
   "cell_type": "code",
   "execution_count": 17,
   "id": "cf2ed0e5-38a7-45d9-b01b-1715693c998a",
   "metadata": {
    "tags": []
   },
   "outputs": [],
   "source": [
    "dic_stem = {\"nomor\":[], \"parameter\":[], \"kata\":[]}\n",
    "list_index = []\n",
    "list_param = []\n",
    "list_stem = []\n",
    "for index, stop in enumerate(split_stop): \n",
    "    for parameter, kata in enumerate(stop):\n",
    "        stemword = st.stem(kata)\n",
    "        dic_stem[\"nomor\"].append(index)\n",
    "        dic_stem[\"parameter\"].append(parameter)\n",
    "        dic_stem[\"kata\"].append(stemword)"
   ]
  },
  {
   "cell_type": "code",
   "execution_count": 18,
   "id": "bef1c0f6-eef2-4dd7-aa29-ed3ae2d5d378",
   "metadata": {
    "tags": []
   },
   "outputs": [
    {
     "data": {
      "text/html": [
       "<div>\n",
       "<style scoped>\n",
       "    .dataframe tbody tr th:only-of-type {\n",
       "        vertical-align: middle;\n",
       "    }\n",
       "\n",
       "    .dataframe tbody tr th {\n",
       "        vertical-align: top;\n",
       "    }\n",
       "\n",
       "    .dataframe thead th {\n",
       "        text-align: right;\n",
       "    }\n",
       "</style>\n",
       "<table border=\"1\" class=\"dataframe\">\n",
       "  <thead>\n",
       "    <tr style=\"text-align: right;\">\n",
       "      <th></th>\n",
       "      <th>nomor</th>\n",
       "      <th>parameter</th>\n",
       "      <th>kata</th>\n",
       "    </tr>\n",
       "  </thead>\n",
       "  <tbody>\n",
       "    <tr>\n",
       "      <th>0</th>\n",
       "      <td>0</td>\n",
       "      <td>0</td>\n",
       "      <td>call</td>\n",
       "    </tr>\n",
       "    <tr>\n",
       "      <th>1</th>\n",
       "      <td>0</td>\n",
       "      <td>1</td>\n",
       "      <td>bird</td>\n",
       "    </tr>\n",
       "    <tr>\n",
       "      <th>2</th>\n",
       "      <td>0</td>\n",
       "      <td>2</td>\n",
       "      <td>habit</td>\n",
       "    </tr>\n",
       "    <tr>\n",
       "      <th>3</th>\n",
       "      <td>1</td>\n",
       "      <td>0</td>\n",
       "      <td>brother</td>\n",
       "    </tr>\n",
       "    <tr>\n",
       "      <th>4</th>\n",
       "      <td>1</td>\n",
       "      <td>1</td>\n",
       "      <td>like</td>\n",
       "    </tr>\n",
       "    <tr>\n",
       "      <th>5</th>\n",
       "      <td>1</td>\n",
       "      <td>2</td>\n",
       "      <td>bird</td>\n",
       "    </tr>\n",
       "    <tr>\n",
       "      <th>6</th>\n",
       "      <td>1</td>\n",
       "      <td>3</td>\n",
       "      <td>month</td>\n",
       "    </tr>\n",
       "    <tr>\n",
       "      <th>7</th>\n",
       "      <td>1</td>\n",
       "      <td>4</td>\n",
       "      <td>father</td>\n",
       "    </tr>\n",
       "    <tr>\n",
       "      <th>8</th>\n",
       "      <td>1</td>\n",
       "      <td>5</td>\n",
       "      <td>gave</td>\n",
       "    </tr>\n",
       "    <tr>\n",
       "      <th>9</th>\n",
       "      <td>1</td>\n",
       "      <td>6</td>\n",
       "      <td>black</td>\n",
       "    </tr>\n",
       "  </tbody>\n",
       "</table>\n",
       "</div>"
      ],
      "text/plain": [
       "   nomor  parameter     kata\n",
       "0      0          0     call\n",
       "1      0          1     bird\n",
       "2      0          2    habit\n",
       "3      1          0  brother\n",
       "4      1          1     like\n",
       "5      1          2     bird\n",
       "6      1          3    month\n",
       "7      1          4   father\n",
       "8      1          5     gave\n",
       "9      1          6    black"
      ]
     },
     "execution_count": 18,
     "metadata": {},
     "output_type": "execute_result"
    }
   ],
   "source": [
    "df_stem = pd.DataFrame(dic_stem)\n",
    "df_stem.head(10)"
   ]
  },
  {
   "cell_type": "code",
   "execution_count": 19,
   "id": "ec0c6472-671f-4b13-9676-237e5d95854f",
   "metadata": {
    "tags": []
   },
   "outputs": [],
   "source": [
    "stembeneran = []\n",
    "for index in range(0,15) :\n",
    "    var = ' '.join(df_stem[df_stem.nomor == index].kata)\n",
    "    stembeneran.append(var)"
   ]
  },
  {
   "cell_type": "markdown",
   "id": "f0086779-3455-4acf-bf22-c0b271a80f6c",
   "metadata": {},
   "source": [
    "##### Comparison between before (split_stop variable) and after (stembeneran variable) the stemming"
   ]
  },
  {
   "cell_type": "code",
   "execution_count": 20,
   "id": "15d897ff-afc2-427d-8b5d-4709b6d64956",
   "metadata": {
    "tags": []
   },
   "outputs": [
    {
     "name": "stdout",
     "output_type": "stream",
     "text": [
      "[['called', 'bird', 'habit'], ['brother', 'likes', 'bird', 'month', 'father', 'gave', 'black', 'bird'], ['antony', 'bird', 'lost'], ['greedy', 'characteristic', 'hate'], ['bird', 'two', 'wings', 'two', 'legs'], ['sustainability', 'becomes', 'key', 'focus', 'consumer', 'electronics', 'nokia', 'sets', 'apart', 'prioritizing', 'ecofriendly', 'practices', 'manufacturing', 'processes', 'aligning', 'growing', 'demand', 'ethically', 'sourced', 'recyclable', 'mobile', 'devices'], ['advent', 'augmented', 'reality', 'applications', 'smartphones', 'like', 'iphone', 'transforming', 'versatile', 'tools', 'blur', 'lines', 'digital', 'physical', 'realms', 'offering', 'users', 'immersive', 'experiences', 'previously', 'unimaginable'], ['smartphone', 'manufacturers', 'strive', 'market', 'dominance', 'iphone', 'distinguishes', 'seamless', 'ecosystem', 'integration', 'hardware', 'software', 'services', 'creates', 'cohesive', 'user', 'experience', 'unparalleled', 'competitors'], ['era', 'privacy', 'concerns', 'loom', 'large', 'iphone', 'stands', 'robust', 'security', 'features', 'providing', 'users', 'peace', 'mind', 'amidst', 'growing', 'threats', 'personal', 'data', 'smartphones'], ['nokia', 'synonymous', 'mobile', 'innovation', 'undergoing', 'resurgence', 'telecommunications', 'industry', 'leveraging', 'heritage', 'reintroduce', 'iconic', 'designs', 'infused', 'modern', 'technological', 'advancements'], ['cellular', 'biology', 'research', 'uncovered', 'intricate', 'mechanisms', 'governing', 'cell', 'signaling', 'pathways', 'shedding', 'light', 'fundamental', 'processes', 'crucial', 'understanding', 'human', 'health', 'disease'], ['neurobiology', 'elucidating', 'neural', 'circuitry', 'underlying', 'learning', 'memory', 'requires', 'precise', 'manipulation', 'neural', 'cells', 'prompting', 'development', 'innovative', 'techniques', 'cell', 'manipulation', 'recording'], ['environmental', 'scientists', 'examine', 'ecological', 'footprint', 'beverage', 'production', 'assessing', 'sustainability', 'water', 'usage', 'packaging', 'materials', 'mitigate', 'environmental', 'impact', 'manufacturing', 'popular', 'drinks', 'soda', 'bottled', 'water'], ['certain', 'professions', 'bartending', 'hospitality', 'mastering', 'art', 'mixology', 'essential', 'requires', 'nuanced', 'understanding', 'different', 'ingredients', 'interact', 'create', 'harmonious', 'flavorful', 'drink', 'experience'], ['social', 'gatherings', 'individuals', 'often', 'find', 'compelled', 'drink', 'excessively', 'unaware', 'potential', 'consequences', 'impaired', 'judgment', 'dehydration']]\n"
     ]
    }
   ],
   "source": [
    "print(split_stop, sep=', ')"
   ]
  },
  {
   "cell_type": "code",
   "execution_count": 21,
   "id": "2c032dc6-17c4-4290-9629-3e89254b97ed",
   "metadata": {
    "tags": []
   },
   "outputs": [
    {
     "name": "stdout",
     "output_type": "stream",
     "text": [
      "['call bird habit', 'brother like bird month father gave black bird', 'antoni bird lost', 'greedi characterist hate', 'bird two wing two leg', 'sustain becom key focu consum electron nokia set apart priorit ecofriendli practic manufactur process align grow demand ethic sourc recycl mobil devic', 'advent augment realiti applic smartphon like iphon transform versatil tool blur line digit physic realm offer user immers experi previous unimagin', 'smartphon manufactur strive market domin iphon distinguish seamless ecosystem integr hardwar softwar servic creat cohes user experi unparallel competitor', 'era privaci concern loom larg iphon stand robust secur featur provid user peac mind amidst grow threat person data smartphon', 'nokia synonym mobil innov undergo resurg telecommun industri leverag heritag reintroduc icon design infus modern technolog advanc', 'cellular biolog research uncov intric mechan govern cell signal pathway shed light fundament process crucial understand human health diseas', 'neurobiolog elucid neural circuitri underli learn memori requir precis manipul neural cell prompt develop innov techniqu cell manipul record', 'environment scientist examin ecolog footprint beverag product assess sustain water usag packag materi mitig environment impact manufactur popular drink soda bottl water', 'certain profess bartend hospit master art mixolog essenti requir nuanc understand differ ingredi interact creat harmoni flavor drink experi', 'social gather individu often find compel drink excess unawar potenti consequ impair judgment dehydr']\n"
     ]
    }
   ],
   "source": [
    "print(stembeneran, sep=', ')"
   ]
  },
  {
   "cell_type": "markdown",
   "id": "336a25d6-b486-4a16-a57f-32237bc93f95",
   "metadata": {},
   "source": [
    "### Transform the clean dataset dan export it into csv"
   ]
  },
  {
   "cell_type": "code",
   "execution_count": 22,
   "id": "b81b4a2b-67d2-49f9-b06b-a9ddf1433cb1",
   "metadata": {
    "tags": []
   },
   "outputs": [],
   "source": [
    "clean_dataset = pd.DataFrame(stembeneran)\n",
    "clean_dataset = clean_dataset.rename(columns={0: 'teks'})"
   ]
  },
  {
   "cell_type": "code",
   "execution_count": 23,
   "id": "07ee4a57-737d-4ce7-a0c9-13b283b52ffd",
   "metadata": {
    "tags": []
   },
   "outputs": [
    {
     "data": {
      "text/html": [
       "<div>\n",
       "<style scoped>\n",
       "    .dataframe tbody tr th:only-of-type {\n",
       "        vertical-align: middle;\n",
       "    }\n",
       "\n",
       "    .dataframe tbody tr th {\n",
       "        vertical-align: top;\n",
       "    }\n",
       "\n",
       "    .dataframe thead th {\n",
       "        text-align: right;\n",
       "    }\n",
       "</style>\n",
       "<table border=\"1\" class=\"dataframe\">\n",
       "  <thead>\n",
       "    <tr style=\"text-align: right;\">\n",
       "      <th></th>\n",
       "      <th>teks</th>\n",
       "    </tr>\n",
       "  </thead>\n",
       "  <tbody>\n",
       "    <tr>\n",
       "      <th>0</th>\n",
       "      <td>call bird habit</td>\n",
       "    </tr>\n",
       "    <tr>\n",
       "      <th>1</th>\n",
       "      <td>brother like bird month father gave black bird</td>\n",
       "    </tr>\n",
       "    <tr>\n",
       "      <th>2</th>\n",
       "      <td>antoni bird lost</td>\n",
       "    </tr>\n",
       "    <tr>\n",
       "      <th>3</th>\n",
       "      <td>greedi characterist hate</td>\n",
       "    </tr>\n",
       "    <tr>\n",
       "      <th>4</th>\n",
       "      <td>bird two wing two leg</td>\n",
       "    </tr>\n",
       "    <tr>\n",
       "      <th>5</th>\n",
       "      <td>sustain becom key focu consum electron nokia set apart priorit ecofriendli practic manufactur process align grow demand ethic sourc recycl mobil devic</td>\n",
       "    </tr>\n",
       "    <tr>\n",
       "      <th>6</th>\n",
       "      <td>advent augment realiti applic smartphon like iphon transform versatil tool blur line digit physic realm offer user immers experi previous unimagin</td>\n",
       "    </tr>\n",
       "    <tr>\n",
       "      <th>7</th>\n",
       "      <td>smartphon manufactur strive market domin iphon distinguish seamless ecosystem integr hardwar softwar servic creat cohes user experi unparallel competitor</td>\n",
       "    </tr>\n",
       "    <tr>\n",
       "      <th>8</th>\n",
       "      <td>era privaci concern loom larg iphon stand robust secur featur provid user peac mind amidst grow threat person data smartphon</td>\n",
       "    </tr>\n",
       "    <tr>\n",
       "      <th>9</th>\n",
       "      <td>nokia synonym mobil innov undergo resurg telecommun industri leverag heritag reintroduc icon design infus modern technolog advanc</td>\n",
       "    </tr>\n",
       "    <tr>\n",
       "      <th>10</th>\n",
       "      <td>cellular biolog research uncov intric mechan govern cell signal pathway shed light fundament process crucial understand human health diseas</td>\n",
       "    </tr>\n",
       "    <tr>\n",
       "      <th>11</th>\n",
       "      <td>neurobiolog elucid neural circuitri underli learn memori requir precis manipul neural cell prompt develop innov techniqu cell manipul record</td>\n",
       "    </tr>\n",
       "    <tr>\n",
       "      <th>12</th>\n",
       "      <td>environment scientist examin ecolog footprint beverag product assess sustain water usag packag materi mitig environment impact manufactur popular drink soda bottl water</td>\n",
       "    </tr>\n",
       "    <tr>\n",
       "      <th>13</th>\n",
       "      <td>certain profess bartend hospit master art mixolog essenti requir nuanc understand differ ingredi interact creat harmoni flavor drink experi</td>\n",
       "    </tr>\n",
       "    <tr>\n",
       "      <th>14</th>\n",
       "      <td>social gather individu often find compel drink excess unawar potenti consequ impair judgment dehydr</td>\n",
       "    </tr>\n",
       "  </tbody>\n",
       "</table>\n",
       "</div>"
      ],
      "text/plain": [
       "                                                                                                                                                                        teks\n",
       "0                                                                                                                                                            call bird habit\n",
       "1                                                                                                                             brother like bird month father gave black bird\n",
       "2                                                                                                                                                           antoni bird lost\n",
       "3                                                                                                                                                   greedi characterist hate\n",
       "4                                                                                                                                                      bird two wing two leg\n",
       "5                     sustain becom key focu consum electron nokia set apart priorit ecofriendli practic manufactur process align grow demand ethic sourc recycl mobil devic\n",
       "6                         advent augment realiti applic smartphon like iphon transform versatil tool blur line digit physic realm offer user immers experi previous unimagin\n",
       "7                  smartphon manufactur strive market domin iphon distinguish seamless ecosystem integr hardwar softwar servic creat cohes user experi unparallel competitor\n",
       "8                                               era privaci concern loom larg iphon stand robust secur featur provid user peac mind amidst grow threat person data smartphon\n",
       "9                                          nokia synonym mobil innov undergo resurg telecommun industri leverag heritag reintroduc icon design infus modern technolog advanc\n",
       "10                               cellular biolog research uncov intric mechan govern cell signal pathway shed light fundament process crucial understand human health diseas\n",
       "11                              neurobiolog elucid neural circuitri underli learn memori requir precis manipul neural cell prompt develop innov techniqu cell manipul record\n",
       "12  environment scientist examin ecolog footprint beverag product assess sustain water usag packag materi mitig environment impact manufactur popular drink soda bottl water\n",
       "13                               certain profess bartend hospit master art mixolog essenti requir nuanc understand differ ingredi interact creat harmoni flavor drink experi\n",
       "14                                                                       social gather individu often find compel drink excess unawar potenti consequ impair judgment dehydr"
      ]
     },
     "execution_count": 23,
     "metadata": {},
     "output_type": "execute_result"
    }
   ],
   "source": [
    "clean_dataset"
   ]
  },
  {
   "cell_type": "code",
   "execution_count": 24,
   "id": "9b0903b3-9153-4e58-972a-ca3bc001fc38",
   "metadata": {
    "tags": []
   },
   "outputs": [],
   "source": [
    "clean_dataset.to_csv('clean-corpus-inggris.csv')"
   ]
  }
 ],
 "metadata": {
  "kernelspec": {
   "display_name": "Python 3 (ipykernel)",
   "language": "python",
   "name": "python3"
  },
  "language_info": {
   "codemirror_mode": {
    "name": "ipython",
    "version": 3
   },
   "file_extension": ".py",
   "mimetype": "text/x-python",
   "name": "python",
   "nbconvert_exporter": "python",
   "pygments_lexer": "ipython3",
   "version": "3.11.4"
  }
 },
 "nbformat": 4,
 "nbformat_minor": 5
}
