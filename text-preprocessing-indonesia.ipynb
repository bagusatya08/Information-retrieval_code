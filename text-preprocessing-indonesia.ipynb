{
 "cells": [
  {
   "cell_type": "markdown",
   "metadata": {
    "tags": []
   },
   "source": [
    "## Term Frequency-Inverse Document Frequency (TF-IDF)\n",
    "Term Frequency - Inverse Document Frequency (TF-IDF) is a widely used statistical method in natural language processing and information retrieval. **It measures how important a term is within a document relative to a collection of documents** (i.e., relative to a corpus).\n",
    "- **Term Frequency:** TF of a term or word is the number of times the term appears in a document compared to the total number of words in the document.\n",
    "- **Inverse Document Frequency:** IDF of a term reflects the proportion of documents in the corpus that contain the term. Words unique to a small percentage of documents (e.g., technical jargon terms) receive higher importance values than words common across all documents (e.g., a, the, and)."
   ]
  },
  {
   "cell_type": "markdown",
   "metadata": {},
   "source": [
    "### About Project\n",
    "This project devided into **three notebooks** that explained the usage of TF-IDF using **Bahasa Indonesia & English.** The process flow of this project start from data collection (corpus) to pre-processing and algorithm fitting, the detailed steps explained below:\n",
    "1. **Data Collection (self-produce)**\n",
    "2. **Text Pre-Processing (Case Folding, Punctuation Removal, Tokenizing, Applying Stop Words, Stemming)**\n",
    "3. **Fitting the TF-IDF Algorithm**\n",
    "4. **Testing for Input and Output**"
   ]
  },
  {
   "cell_type": "markdown",
   "metadata": {
    "jp-MarkdownHeadingCollapsed": true,
    "tags": []
   },
   "source": [
    "#### The Notebook Divided into three sub-process:\n",
    "1. text-preprocessing-english.ipynb\n",
    "2. text-preprocessing-indonesia.ipynb\n",
    "3. implementation.ipynb"
   ]
  },
  {
   "cell_type": "markdown",
   "metadata": {},
   "source": [
    "### Listing library used in this project"
   ]
  },
  {
   "cell_type": "code",
   "execution_count": 1,
   "metadata": {
    "tags": []
   },
   "outputs": [
    {
     "name": "stdout",
     "output_type": "stream",
     "text": [
      "Requirement already satisfied: nltk in /Users/bagussatya/anaconda3/lib/python3.11/site-packages (3.8.1)\n",
      "Requirement already satisfied: click in /Users/bagussatya/anaconda3/lib/python3.11/site-packages (from nltk) (8.0.4)\n",
      "Requirement already satisfied: joblib in /Users/bagussatya/anaconda3/lib/python3.11/site-packages (from nltk) (1.2.0)\n",
      "Requirement already satisfied: regex>=2021.8.3 in /Users/bagussatya/anaconda3/lib/python3.11/site-packages (from nltk) (2022.7.9)\n",
      "Requirement already satisfied: tqdm in /Users/bagussatya/anaconda3/lib/python3.11/site-packages (from nltk) (4.65.0)\n"
     ]
    }
   ],
   "source": [
    "# General text-processing using NLTK\n",
    "!pip install nltk"
   ]
  },
  {
   "cell_type": "code",
   "execution_count": 2,
   "metadata": {
    "tags": []
   },
   "outputs": [
    {
     "name": "stdout",
     "output_type": "stream",
     "text": [
      "Requirement already satisfied: regex in /Users/bagussatya/anaconda3/lib/python3.11/site-packages (2022.7.9)\n"
     ]
    }
   ],
   "source": [
    "# Puncuation Removal using REGEX\n",
    "!pip install regex"
   ]
  },
  {
   "cell_type": "code",
   "execution_count": 3,
   "metadata": {
    "tags": []
   },
   "outputs": [
    {
     "name": "stdout",
     "output_type": "stream",
     "text": [
      "Requirement already satisfied: scikit-learn in /Users/bagussatya/anaconda3/lib/python3.11/site-packages (1.3.0)\n",
      "Requirement already satisfied: numpy>=1.17.3 in /Users/bagussatya/anaconda3/lib/python3.11/site-packages (from scikit-learn) (1.24.3)\n",
      "Requirement already satisfied: scipy>=1.5.0 in /Users/bagussatya/anaconda3/lib/python3.11/site-packages (from scikit-learn) (1.10.1)\n",
      "Requirement already satisfied: joblib>=1.1.1 in /Users/bagussatya/anaconda3/lib/python3.11/site-packages (from scikit-learn) (1.2.0)\n",
      "Requirement already satisfied: threadpoolctl>=2.0.0 in /Users/bagussatya/anaconda3/lib/python3.11/site-packages (from scikit-learn) (2.2.0)\n"
     ]
    }
   ],
   "source": [
    "# TF-IDF Algorithm using sklearn\n",
    "!pip install scikit-learn"
   ]
  },
  {
   "cell_type": "code",
   "execution_count": 4,
   "metadata": {
    "tags": []
   },
   "outputs": [
    {
     "name": "stdout",
     "output_type": "stream",
     "text": [
      "Requirement already satisfied: numpy in /Users/bagussatya/anaconda3/lib/python3.11/site-packages (1.24.3)\n"
     ]
    }
   ],
   "source": [
    "# Numpy for numerical manipulation\n",
    "!pip install numpy"
   ]
  },
  {
   "cell_type": "code",
   "execution_count": 5,
   "metadata": {
    "tags": []
   },
   "outputs": [
    {
     "name": "stdout",
     "output_type": "stream",
     "text": [
      "Requirement already satisfied: pandas in /Users/bagussatya/anaconda3/lib/python3.11/site-packages (1.5.3)\n",
      "Requirement already satisfied: python-dateutil>=2.8.1 in /Users/bagussatya/anaconda3/lib/python3.11/site-packages (from pandas) (2.8.2)\n",
      "Requirement already satisfied: pytz>=2020.1 in /Users/bagussatya/anaconda3/lib/python3.11/site-packages (from pandas) (2022.7)\n",
      "Requirement already satisfied: numpy>=1.21.0 in /Users/bagussatya/anaconda3/lib/python3.11/site-packages (from pandas) (1.24.3)\n",
      "Requirement already satisfied: six>=1.5 in /Users/bagussatya/anaconda3/lib/python3.11/site-packages (from python-dateutil>=2.8.1->pandas) (1.16.0)\n"
     ]
    }
   ],
   "source": [
    "# Dataframe manipulation using Pandas\n",
    "!pip install pandas"
   ]
  },
  {
   "cell_type": "code",
   "execution_count": 6,
   "metadata": {
    "colab": {
     "base_uri": "https://localhost:8080/"
    },
    "id": "mdxqk6z3JPxe",
    "outputId": "5d00fc2f-56d1-400f-d297-e6a4563d91d1",
    "tags": []
   },
   "outputs": [
    {
     "name": "stdout",
     "output_type": "stream",
     "text": [
      "Requirement already satisfied: sastrawi in /Users/bagussatya/anaconda3/lib/python3.11/site-packages (1.0.1)\n"
     ]
    }
   ],
   "source": [
    "# Stemming in Indonesia\n",
    "!pip install sastrawi"
   ]
  },
  {
   "cell_type": "markdown",
   "metadata": {
    "id": "9MsVvRo3LQtO"
   },
   "source": [
    "## Library Initialization"
   ]
  },
  {
   "cell_type": "code",
   "execution_count": 7,
   "metadata": {
    "id": "vaTjE7WVJ9Yg",
    "tags": []
   },
   "outputs": [],
   "source": [
    "import numpy as np\n",
    "import pandas as pd\n",
    "\n",
    "import regex as re\n",
    "import nltk\n",
    "from nltk.tokenize import sent_tokenize, word_tokenize\n",
    "from nltk.corpus import stopwords\n",
    "from Sastrawi.Stemmer.StemmerFactory import StemmerFactory\n",
    "\n",
    "from sklearn.feature_extraction.text import TfidfVectorizer"
   ]
  },
  {
   "cell_type": "markdown",
   "metadata": {
    "id": "7WRDPr7sLGSO"
   },
   "source": [
    "## Importing Dataset"
   ]
  },
  {
   "cell_type": "code",
   "execution_count": 8,
   "metadata": {
    "colab": {
     "base_uri": "https://localhost:8080/",
     "height": 745
    },
    "id": "asgylMmTJ9md",
    "outputId": "5f1f6ff6-a460-4392-fc53-2e28417569ea",
    "tags": []
   },
   "outputs": [
    {
     "data": {
      "text/html": [
       "<div>\n",
       "<style scoped>\n",
       "    .dataframe tbody tr th:only-of-type {\n",
       "        vertical-align: middle;\n",
       "    }\n",
       "\n",
       "    .dataframe tbody tr th {\n",
       "        vertical-align: top;\n",
       "    }\n",
       "\n",
       "    .dataframe thead th {\n",
       "        text-align: right;\n",
       "    }\n",
       "</style>\n",
       "<table border=\"1\" class=\"dataframe\">\n",
       "  <thead>\n",
       "    <tr style=\"text-align: right;\">\n",
       "      <th></th>\n",
       "      <th>id</th>\n",
       "      <th>teks</th>\n",
       "      <th>topik</th>\n",
       "    </tr>\n",
       "  </thead>\n",
       "  <tbody>\n",
       "    <tr>\n",
       "      <th>0</th>\n",
       "      <td>IND1</td>\n",
       "      <td>MAKHLUK HIDUP ADALAH OBJEK KAJIAN UTAMA DALAM BIDANG BIOLOGI.</td>\n",
       "      <td>biologi</td>\n",
       "    </tr>\n",
       "    <tr>\n",
       "      <th>1</th>\n",
       "      <td>IND2</td>\n",
       "      <td>Biologi seluler = cabang biologi yang mempelajari struktur dan fungsi sel-sel dalam makhluk hidup.</td>\n",
       "      <td>biologi</td>\n",
       "    </tr>\n",
       "    <tr>\n",
       "      <th>2</th>\n",
       "      <td>IND3</td>\n",
       "      <td>Apa Saja Jenis-Jenis Sel yang Ada pada Makhluk Hidup?</td>\n",
       "      <td>sel</td>\n",
       "    </tr>\n",
       "    <tr>\n",
       "      <th>3</th>\n",
       "      <td>IND4</td>\n",
       "      <td>Sel merupakan istilah biologi untuk unit dasar dari kehidupan.</td>\n",
       "      <td>sel</td>\n",
       "    </tr>\n",
       "    <tr>\n",
       "      <th>4</th>\n",
       "      <td>IND5</td>\n",
       "      <td>Inti sel mengandung materi genetik dalam bentuk DNA.</td>\n",
       "      <td>dna</td>\n",
       "    </tr>\n",
       "    <tr>\n",
       "      <th>5</th>\n",
       "      <td>IND6</td>\n",
       "      <td>Gen adalah instruksi yang disimpan dalam DNA suatu sel.</td>\n",
       "      <td>dna</td>\n",
       "    </tr>\n",
       "    <tr>\n",
       "      <th>6</th>\n",
       "      <td>IND7</td>\n",
       "      <td>Mengapa sel disebut sebagai unit terkecil yang menyusun tubuh makhluk hidup?</td>\n",
       "      <td>sel</td>\n",
       "    </tr>\n",
       "    <tr>\n",
       "      <th>7</th>\n",
       "      <td>IND8</td>\n",
       "      <td>Dalam biologi perkembangan, diferensiasi sel adalah proses di mana sel-sel mengembangkan fungsi spesifik.</td>\n",
       "      <td>biologi</td>\n",
       "    </tr>\n",
       "    <tr>\n",
       "      <th>8</th>\n",
       "      <td>IND9</td>\n",
       "      <td>Makhluk hidup uniseluler adalah makhluk hidup yang hanya memilki sebuah sel tunggal, sedangkan multiseluler adalah makhluk hidup atau organisme yang memiliki lebih dari satu sel.</td>\n",
       "      <td>sel</td>\n",
       "    </tr>\n",
       "    <tr>\n",
       "      <th>9</th>\n",
       "      <td>IND10</td>\n",
       "      <td>BIOKIMIA ADALAH CABANG BIOLOGI YANG MEMPELAJARI KIMIA DASAR DALAM KEHIDUPAN MAKHLUK HIDUP.</td>\n",
       "      <td>biologi</td>\n",
       "    </tr>\n",
       "    <tr>\n",
       "      <th>10</th>\n",
       "      <td>IND11</td>\n",
       "      <td>Mengapa studi tentang biologi dapat membantu kita memahami cara kerja berbagai sistem dalam makhluk hidup?</td>\n",
       "      <td>biologi</td>\n",
       "    </tr>\n",
       "    <tr>\n",
       "      <th>11</th>\n",
       "      <td>IND12</td>\n",
       "      <td>Evolusi adalah proses utama dalam biologi yang menjelaskan perubahan dalam populasi makhluk hidup dari waktu ke waktu.</td>\n",
       "      <td>evolusi</td>\n",
       "    </tr>\n",
       "    <tr>\n",
       "      <th>12</th>\n",
       "      <td>IND13</td>\n",
       "      <td>PROSES EVOLUSI TELAH MEMBENTUK BERAGAMNYA JENIS SEL YANG ADA DI DUNIA INI.</td>\n",
       "      <td>evolusi</td>\n",
       "    </tr>\n",
       "    <tr>\n",
       "      <th>13</th>\n",
       "      <td>IND14</td>\n",
       "      <td>Evolusi SEL TELAH MENGHASILKAN ORGANEL-ORGANEL KOMPLEKS SEPERTI MITOKONDRIA DAN KLOROPLAS.</td>\n",
       "      <td>evolusi</td>\n",
       "    </tr>\n",
       "    <tr>\n",
       "      <th>14</th>\n",
       "      <td>IND15</td>\n",
       "      <td>Penelitian TERBARU MENUNJUKKAN BAHWA EVOLUSI SEL TERUS BERLANJUT DALAM RESPONS TERHADAP TEKANAN SELEKSI DAN LINGKUNGAN YANG BERUBAH.</td>\n",
       "      <td>evolusi</td>\n",
       "    </tr>\n",
       "  </tbody>\n",
       "</table>\n",
       "</div>"
      ],
      "text/plain": [
       "       id                                                                                                                                                                                teks    topik\n",
       "0    IND1                                                                                                                       MAKHLUK HIDUP ADALAH OBJEK KAJIAN UTAMA DALAM BIDANG BIOLOGI.  biologi\n",
       "1    IND2                                                                                  Biologi seluler = cabang biologi yang mempelajari struktur dan fungsi sel-sel dalam makhluk hidup.  biologi\n",
       "2    IND3                                                                                                                               Apa Saja Jenis-Jenis Sel yang Ada pada Makhluk Hidup?      sel\n",
       "3    IND4                                                                                                                      Sel merupakan istilah biologi untuk unit dasar dari kehidupan.      sel\n",
       "4    IND5                                                                                                                                Inti sel mengandung materi genetik dalam bentuk DNA.      dna\n",
       "5    IND6                                                                                                                             Gen adalah instruksi yang disimpan dalam DNA suatu sel.      dna\n",
       "6    IND7                                                                                                        Mengapa sel disebut sebagai unit terkecil yang menyusun tubuh makhluk hidup?      sel\n",
       "7    IND8                                                                           Dalam biologi perkembangan, diferensiasi sel adalah proses di mana sel-sel mengembangkan fungsi spesifik.  biologi\n",
       "8    IND9  Makhluk hidup uniseluler adalah makhluk hidup yang hanya memilki sebuah sel tunggal, sedangkan multiseluler adalah makhluk hidup atau organisme yang memiliki lebih dari satu sel.      sel\n",
       "9   IND10                                                                                          BIOKIMIA ADALAH CABANG BIOLOGI YANG MEMPELAJARI KIMIA DASAR DALAM KEHIDUPAN MAKHLUK HIDUP.  biologi\n",
       "10  IND11                                                                          Mengapa studi tentang biologi dapat membantu kita memahami cara kerja berbagai sistem dalam makhluk hidup?  biologi\n",
       "11  IND12                                                              Evolusi adalah proses utama dalam biologi yang menjelaskan perubahan dalam populasi makhluk hidup dari waktu ke waktu.  evolusi\n",
       "12  IND13                                                                                                          PROSES EVOLUSI TELAH MEMBENTUK BERAGAMNYA JENIS SEL YANG ADA DI DUNIA INI.  evolusi\n",
       "13  IND14                                                                                          Evolusi SEL TELAH MENGHASILKAN ORGANEL-ORGANEL KOMPLEKS SEPERTI MITOKONDRIA DAN KLOROPLAS.  evolusi\n",
       "14  IND15                                                Penelitian TERBARU MENUNJUKKAN BAHWA EVOLUSI SEL TERUS BERLANJUT DALAM RESPONS TERHADAP TEKANAN SELEKSI DAN LINGKUNGAN YANG BERUBAH.  evolusi"
      ]
     },
     "execution_count": 8,
     "metadata": {},
     "output_type": "execute_result"
    }
   ],
   "source": [
    "pd.set_option('display.max_columns', None)\n",
    "pd.set_option('display.expand_frame_repr', False)\n",
    "pd.set_option('display.max_colwidth', 1000)\n",
    "\n",
    "dataset = pd.read_csv(\"corpus-indonesia.csv\")\n",
    "dataset"
   ]
  },
  {
   "cell_type": "markdown",
   "metadata": {
    "tags": []
   },
   "source": [
    "### Function Support"
   ]
  },
  {
   "cell_type": "code",
   "execution_count": 9,
   "metadata": {
    "tags": []
   },
   "outputs": [],
   "source": [
    "def listToString(s):\n",
    "    str1 = \" \"\n",
    "    return (str1.join(s))"
   ]
  },
  {
   "cell_type": "markdown",
   "metadata": {
    "id": "mV8wOqjdRf3Z"
   },
   "source": [
    "## Text Pre-processing"
   ]
  },
  {
   "cell_type": "code",
   "execution_count": 10,
   "metadata": {
    "colab": {
     "base_uri": "https://localhost:8080/",
     "height": 710
    },
    "id": "WV53RaPeRcIr",
    "outputId": "b0e2968d-5eb6-4008-b3a8-a83f9c618210",
    "tags": []
   },
   "outputs": [],
   "source": [
    "text = dataset.teks.to_list()"
   ]
  },
  {
   "cell_type": "code",
   "execution_count": 11,
   "metadata": {
    "tags": []
   },
   "outputs": [
    {
     "data": {
      "text/html": [
       "<div>\n",
       "<style scoped>\n",
       "    .dataframe tbody tr th:only-of-type {\n",
       "        vertical-align: middle;\n",
       "    }\n",
       "\n",
       "    .dataframe tbody tr th {\n",
       "        vertical-align: top;\n",
       "    }\n",
       "\n",
       "    .dataframe thead th {\n",
       "        text-align: right;\n",
       "    }\n",
       "</style>\n",
       "<table border=\"1\" class=\"dataframe\">\n",
       "  <thead>\n",
       "    <tr style=\"text-align: right;\">\n",
       "      <th></th>\n",
       "      <th>0</th>\n",
       "    </tr>\n",
       "  </thead>\n",
       "  <tbody>\n",
       "    <tr>\n",
       "      <th>0</th>\n",
       "      <td>MAKHLUK HIDUP ADALAH OBJEK KAJIAN UTAMA DALAM BIDANG BIOLOGI.</td>\n",
       "    </tr>\n",
       "    <tr>\n",
       "      <th>1</th>\n",
       "      <td>Biologi seluler = cabang biologi yang mempelajari struktur dan fungsi sel-sel dalam makhluk hidup.</td>\n",
       "    </tr>\n",
       "    <tr>\n",
       "      <th>2</th>\n",
       "      <td>Apa Saja Jenis-Jenis Sel yang Ada pada Makhluk Hidup?</td>\n",
       "    </tr>\n",
       "    <tr>\n",
       "      <th>3</th>\n",
       "      <td>Sel merupakan istilah biologi untuk unit dasar dari kehidupan.</td>\n",
       "    </tr>\n",
       "    <tr>\n",
       "      <th>4</th>\n",
       "      <td>Inti sel mengandung materi genetik dalam bentuk DNA.</td>\n",
       "    </tr>\n",
       "    <tr>\n",
       "      <th>5</th>\n",
       "      <td>Gen adalah instruksi yang disimpan dalam DNA suatu sel.</td>\n",
       "    </tr>\n",
       "    <tr>\n",
       "      <th>6</th>\n",
       "      <td>Mengapa sel disebut sebagai unit terkecil yang menyusun tubuh makhluk hidup?</td>\n",
       "    </tr>\n",
       "    <tr>\n",
       "      <th>7</th>\n",
       "      <td>Dalam biologi perkembangan, diferensiasi sel adalah proses di mana sel-sel mengembangkan fungsi spesifik.</td>\n",
       "    </tr>\n",
       "    <tr>\n",
       "      <th>8</th>\n",
       "      <td>Makhluk hidup uniseluler adalah makhluk hidup yang hanya memilki sebuah sel tunggal, sedangkan multiseluler adalah makhluk hidup atau organisme yang memiliki lebih dari satu sel.</td>\n",
       "    </tr>\n",
       "    <tr>\n",
       "      <th>9</th>\n",
       "      <td>BIOKIMIA ADALAH CABANG BIOLOGI YANG MEMPELAJARI KIMIA DASAR DALAM KEHIDUPAN MAKHLUK HIDUP.</td>\n",
       "    </tr>\n",
       "    <tr>\n",
       "      <th>10</th>\n",
       "      <td>Mengapa studi tentang biologi dapat membantu kita memahami cara kerja berbagai sistem dalam makhluk hidup?</td>\n",
       "    </tr>\n",
       "    <tr>\n",
       "      <th>11</th>\n",
       "      <td>Evolusi adalah proses utama dalam biologi yang menjelaskan perubahan dalam populasi makhluk hidup dari waktu ke waktu.</td>\n",
       "    </tr>\n",
       "    <tr>\n",
       "      <th>12</th>\n",
       "      <td>PROSES EVOLUSI TELAH MEMBENTUK BERAGAMNYA JENIS SEL YANG ADA DI DUNIA INI.</td>\n",
       "    </tr>\n",
       "    <tr>\n",
       "      <th>13</th>\n",
       "      <td>Evolusi SEL TELAH MENGHASILKAN ORGANEL-ORGANEL KOMPLEKS SEPERTI MITOKONDRIA DAN KLOROPLAS.</td>\n",
       "    </tr>\n",
       "    <tr>\n",
       "      <th>14</th>\n",
       "      <td>Penelitian TERBARU MENUNJUKKAN BAHWA EVOLUSI SEL TERUS BERLANJUT DALAM RESPONS TERHADAP TEKANAN SELEKSI DAN LINGKUNGAN YANG BERUBAH.</td>\n",
       "    </tr>\n",
       "  </tbody>\n",
       "</table>\n",
       "</div>"
      ],
      "text/plain": [
       "                                                                                                                                                                                     0\n",
       "0                                                                                                                        MAKHLUK HIDUP ADALAH OBJEK KAJIAN UTAMA DALAM BIDANG BIOLOGI.\n",
       "1                                                                                   Biologi seluler = cabang biologi yang mempelajari struktur dan fungsi sel-sel dalam makhluk hidup.\n",
       "2                                                                                                                                Apa Saja Jenis-Jenis Sel yang Ada pada Makhluk Hidup?\n",
       "3                                                                                                                       Sel merupakan istilah biologi untuk unit dasar dari kehidupan.\n",
       "4                                                                                                                                 Inti sel mengandung materi genetik dalam bentuk DNA.\n",
       "5                                                                                                                              Gen adalah instruksi yang disimpan dalam DNA suatu sel.\n",
       "6                                                                                                         Mengapa sel disebut sebagai unit terkecil yang menyusun tubuh makhluk hidup?\n",
       "7                                                                            Dalam biologi perkembangan, diferensiasi sel adalah proses di mana sel-sel mengembangkan fungsi spesifik.\n",
       "8   Makhluk hidup uniseluler adalah makhluk hidup yang hanya memilki sebuah sel tunggal, sedangkan multiseluler adalah makhluk hidup atau organisme yang memiliki lebih dari satu sel.\n",
       "9                                                                                           BIOKIMIA ADALAH CABANG BIOLOGI YANG MEMPELAJARI KIMIA DASAR DALAM KEHIDUPAN MAKHLUK HIDUP.\n",
       "10                                                                          Mengapa studi tentang biologi dapat membantu kita memahami cara kerja berbagai sistem dalam makhluk hidup?\n",
       "11                                                              Evolusi adalah proses utama dalam biologi yang menjelaskan perubahan dalam populasi makhluk hidup dari waktu ke waktu.\n",
       "12                                                                                                          PROSES EVOLUSI TELAH MEMBENTUK BERAGAMNYA JENIS SEL YANG ADA DI DUNIA INI.\n",
       "13                                                                                          Evolusi SEL TELAH MENGHASILKAN ORGANEL-ORGANEL KOMPLEKS SEPERTI MITOKONDRIA DAN KLOROPLAS.\n",
       "14                                                Penelitian TERBARU MENUNJUKKAN BAHWA EVOLUSI SEL TERUS BERLANJUT DALAM RESPONS TERHADAP TEKANAN SELEKSI DAN LINGKUNGAN YANG BERUBAH."
      ]
     },
     "execution_count": 11,
     "metadata": {},
     "output_type": "execute_result"
    }
   ],
   "source": [
    "pd.DataFrame(text)"
   ]
  },
  {
   "cell_type": "markdown",
   "metadata": {
    "id": "ANlSycnySpVv"
   },
   "source": [
    "## Data Cleaning\n",
    "This process has a purpose to remove the punctuation and normalize the word lettering to lowercase"
   ]
  },
  {
   "cell_type": "code",
   "execution_count": 12,
   "metadata": {
    "colab": {
     "base_uri": "https://localhost:8080/"
    },
    "id": "ZUrXw1_2Sg2_",
    "outputId": "d0a987f0-8e3f-4550-9954-6ad62b387ba8",
    "tags": []
   },
   "outputs": [
    {
     "name": "stdout",
     "output_type": "stream",
     "text": [
      "['makhluk hidup adalah objek kajian utama dalam bidang biologi', 'biologi seluler  cabang biologi yang mempelajari struktur dan fungsi sel dalam makhluk hidup', 'apa saja jenis sel yang ada pada makhluk hidup', 'sel merupakan istilah biologi untuk unit dasar dari kehidupan', 'inti sel mengandung materi genetik dalam bentuk dna', 'gen adalah instruksi yang disimpan dalam dna suatu sel', 'mengapa sel disebut sebagai unit terkecil yang menyusun tubuh makhluk hidup', 'dalam biologi perkembangan diferensiasi sel adalah proses di mana sel mengembangkan fungsi spesifik', 'makhluk hidup uniseluler adalah makhluk hidup yang hanya memilki sebuah sel tunggal sedangkan multiseluler adalah makhluk hidup atau organisme yang memiliki lebih dari satu sel', 'biokimia adalah cabang biologi yang mempelajari kimia dasar dalam kehidupan makhluk hidup', 'mengapa studi tentang biologi dapat membantu kita memahami cara kerja berbagai sistem dalam makhluk hidup', 'evolusi adalah proses utama dalam biologi yang menjelaskan perubahan dalam populasi makhluk hidup dari waktu ke waktu', 'proses evolusi telah membentuk beragamnya jenis sel yang ada di dunia ini', 'evolusi sel telah menghasilkan organel kompleks seperti mitokondria dan kloroplas', 'penelitian terbaru menunjukkan bahwa evolusi sel terus berlanjut dalam respons terhadap tekanan seleksi dan lingkungan yang berubah']\n"
     ]
    }
   ],
   "source": [
    "clean_text = []\n",
    "for index, teks in enumerate(text):\n",
    "    clean = re.sub(r'[^\\w\\s]','',teks.lower())\n",
    "    \n",
    "    # remove consecutive identical words ex(organelorganel)\n",
    "    clean = re.sub(r'\\b(\\w+)\\1{1,}', '\\\\1', clean)\n",
    "    clean_text.append(clean)\n",
    "print(clean_text)"
   ]
  },
  {
   "cell_type": "markdown",
   "metadata": {
    "id": "nSPEGq0-Y55l"
   },
   "source": [
    "## Sentence Tokenizing\n",
    "This process has a purpose to transform clean text into a list of sentences"
   ]
  },
  {
   "cell_type": "code",
   "execution_count": 13,
   "metadata": {
    "colab": {
     "base_uri": "https://localhost:8080/"
    },
    "id": "aaq5yUSHVIYf",
    "outputId": "da79cce4-e615-4ca1-c8ed-21711df1ccc2",
    "tags": []
   },
   "outputs": [
    {
     "name": "stdout",
     "output_type": "stream",
     "text": [
      "[['makhluk hidup adalah objek kajian utama dalam bidang biologi'], ['biologi seluler  cabang biologi yang mempelajari struktur dan fungsi sel dalam makhluk hidup'], ['apa saja jenis sel yang ada pada makhluk hidup'], ['sel merupakan istilah biologi untuk unit dasar dari kehidupan'], ['inti sel mengandung materi genetik dalam bentuk dna'], ['gen adalah instruksi yang disimpan dalam dna suatu sel'], ['mengapa sel disebut sebagai unit terkecil yang menyusun tubuh makhluk hidup'], ['dalam biologi perkembangan diferensiasi sel adalah proses di mana sel mengembangkan fungsi spesifik'], ['makhluk hidup uniseluler adalah makhluk hidup yang hanya memilki sebuah sel tunggal sedangkan multiseluler adalah makhluk hidup atau organisme yang memiliki lebih dari satu sel'], ['biokimia adalah cabang biologi yang mempelajari kimia dasar dalam kehidupan makhluk hidup'], ['mengapa studi tentang biologi dapat membantu kita memahami cara kerja berbagai sistem dalam makhluk hidup'], ['evolusi adalah proses utama dalam biologi yang menjelaskan perubahan dalam populasi makhluk hidup dari waktu ke waktu'], ['proses evolusi telah membentuk beragamnya jenis sel yang ada di dunia ini'], ['evolusi sel telah menghasilkan organel kompleks seperti mitokondria dan kloroplas'], ['penelitian terbaru menunjukkan bahwa evolusi sel terus berlanjut dalam respons terhadap tekanan seleksi dan lingkungan yang berubah']]\n"
     ]
    }
   ],
   "source": [
    "# Split clean text into a list of sentences\n",
    "split_sentences = []\n",
    "for index, teks in enumerate(clean_text):\n",
    "  sentences = sent_tokenize(teks)\n",
    "  split_sentences.append(sentences)\n",
    "# print(sentences)\n",
    "print(split_sentences)"
   ]
  },
  {
   "cell_type": "markdown",
   "metadata": {
    "id": "g268Ec15ZcWj"
   },
   "source": [
    "## Word Tokenizing\n",
    "This process has a purpose to split the list of sentences into list of words"
   ]
  },
  {
   "cell_type": "code",
   "execution_count": 14,
   "metadata": {
    "colab": {
     "base_uri": "https://localhost:8080/"
    },
    "id": "OPuyvy7-Wsrd",
    "outputId": "fe49e895-1322-4533-e7e6-14b7e490bcd2",
    "tags": []
   },
   "outputs": [
    {
     "name": "stdout",
     "output_type": "stream",
     "text": [
      "[['makhluk', 'hidup', 'adalah', 'objek', 'kajian', 'utama', 'dalam', 'bidang', 'biologi'], ['biologi', 'seluler', 'cabang', 'biologi', 'yang', 'mempelajari', 'struktur', 'dan', 'fungsi', 'sel', 'dalam', 'makhluk', 'hidup'], ['apa', 'saja', 'jenis', 'sel', 'yang', 'ada', 'pada', 'makhluk', 'hidup'], ['sel', 'merupakan', 'istilah', 'biologi', 'untuk', 'unit', 'dasar', 'dari', 'kehidupan'], ['inti', 'sel', 'mengandung', 'materi', 'genetik', 'dalam', 'bentuk', 'dna'], ['gen', 'adalah', 'instruksi', 'yang', 'disimpan', 'dalam', 'dna', 'suatu', 'sel'], ['mengapa', 'sel', 'disebut', 'sebagai', 'unit', 'terkecil', 'yang', 'menyusun', 'tubuh', 'makhluk', 'hidup'], ['dalam', 'biologi', 'perkembangan', 'diferensiasi', 'sel', 'adalah', 'proses', 'di', 'mana', 'sel', 'mengembangkan', 'fungsi', 'spesifik'], ['makhluk', 'hidup', 'uniseluler', 'adalah', 'makhluk', 'hidup', 'yang', 'hanya', 'memilki', 'sebuah', 'sel', 'tunggal', 'sedangkan', 'multiseluler', 'adalah', 'makhluk', 'hidup', 'atau', 'organisme', 'yang', 'memiliki', 'lebih', 'dari', 'satu', 'sel'], ['biokimia', 'adalah', 'cabang', 'biologi', 'yang', 'mempelajari', 'kimia', 'dasar', 'dalam', 'kehidupan', 'makhluk', 'hidup'], ['mengapa', 'studi', 'tentang', 'biologi', 'dapat', 'membantu', 'kita', 'memahami', 'cara', 'kerja', 'berbagai', 'sistem', 'dalam', 'makhluk', 'hidup'], ['evolusi', 'adalah', 'proses', 'utama', 'dalam', 'biologi', 'yang', 'menjelaskan', 'perubahan', 'dalam', 'populasi', 'makhluk', 'hidup', 'dari', 'waktu', 'ke', 'waktu'], ['proses', 'evolusi', 'telah', 'membentuk', 'beragamnya', 'jenis', 'sel', 'yang', 'ada', 'di', 'dunia', 'ini'], ['evolusi', 'sel', 'telah', 'menghasilkan', 'organel', 'kompleks', 'seperti', 'mitokondria', 'dan', 'kloroplas'], ['penelitian', 'terbaru', 'menunjukkan', 'bahwa', 'evolusi', 'sel', 'terus', 'berlanjut', 'dalam', 'respons', 'terhadap', 'tekanan', 'seleksi', 'dan', 'lingkungan', 'yang', 'berubah']]\n"
     ]
    }
   ],
   "source": [
    "split_words = []\n",
    "for index, sentence in enumerate(split_sentences):\n",
    "    words = word_tokenize(listToString(split_sentences[index]))\n",
    "    split_words.append(words)\n",
    "print(split_words)"
   ]
  },
  {
   "cell_type": "markdown",
   "metadata": {
    "id": "iP6mGIbqaKdC"
   },
   "source": [
    "## Implementing Stop Words in Indonesian\n",
    "This process has a purpose to remove words that have no meaning using Indonesian stopwords"
   ]
  },
  {
   "cell_type": "code",
   "execution_count": 15,
   "metadata": {
    "colab": {
     "base_uri": "https://localhost:8080/"
    },
    "id": "DhecG9eObRri",
    "outputId": "0afbcf86-2577-4c1e-df2e-e495c29074f2",
    "tags": []
   },
   "outputs": [
    {
     "name": "stdout",
     "output_type": "stream",
     "text": [
      "758 stopwords in Indonesia:\n",
      " ['ada', 'adalah', 'adanya', 'adapun', 'agak', 'agaknya', 'agar', 'akan', 'akankah', 'akhir', 'akhiri', 'akhirnya', 'aku', 'akulah', 'amat', 'amatlah', 'anda', 'andalah', 'antar', 'antara', 'antaranya', 'apa', 'apaan', 'apabila', 'apakah', 'apalagi', 'apatah', 'artinya', 'asal', 'asalkan', 'atas', 'atau', 'ataukah', 'ataupun', 'awal', 'awalnya', 'bagai', 'bagaikan', 'bagaimana', 'bagaimanakah', 'bagaimanapun', 'bagi', 'bagian', 'bahkan', 'bahwa', 'bahwasanya', 'baik', 'bakal', 'bakalan', 'balik', 'banyak', 'bapak', 'baru', 'bawah', 'beberapa', 'begini', 'beginian', 'beginikah', 'beginilah', 'begitu', 'begitukah', 'begitulah', 'begitupun', 'bekerja', 'belakang', 'belakangan', 'belum', 'belumlah', 'benar', 'benarkah', 'benarlah', 'berada', 'berakhir', 'berakhirlah', 'berakhirnya', 'berapa', 'berapakah', 'berapalah', 'berapapun', 'berarti', 'berawal', 'berbagai', 'berdatangan', 'beri', 'berikan', 'berikut', 'berikutnya', 'berjumlah', 'berkali-kali', 'berkata', 'berkehendak', 'berkeinginan', 'berkenaan', 'berlainan', 'berlalu', 'berlangsung', 'berlebihan', 'bermacam', 'bermacam-macam', 'bermaksud', 'bermula', 'bersama', 'bersama-sama', 'bersiap', 'bersiap-siap', 'bertanya', 'bertanya-tanya', 'berturut', 'berturut-turut', 'bertutur', 'berujar', 'berupa', 'besar', 'betul', 'betulkah', 'biasa', 'biasanya', 'bila', 'bilakah', 'bisa', 'bisakah', 'boleh', 'bolehkah', 'bolehlah', 'buat', 'bukan', 'bukankah', 'bukanlah', 'bukannya', 'bulan', 'bung', 'cara', 'caranya', 'cukup', 'cukupkah', 'cukuplah', 'cuma', 'dahulu', 'dalam', 'dan', 'dapat', 'dari', 'daripada', 'datang', 'dekat', 'demi', 'demikian', 'demikianlah', 'dengan', 'depan', 'di', 'dia', 'diakhiri', 'diakhirinya', 'dialah', 'diantara', 'diantaranya', 'diberi', 'diberikan', 'diberikannya', 'dibuat', 'dibuatnya', 'didapat', 'didatangkan', 'digunakan', 'diibaratkan', 'diibaratkannya', 'diingat', 'diingatkan', 'diinginkan', 'dijawab', 'dijelaskan', 'dijelaskannya', 'dikarenakan', 'dikatakan', 'dikatakannya', 'dikerjakan', 'diketahui', 'diketahuinya', 'dikira', 'dilakukan', 'dilalui', 'dilihat', 'dimaksud', 'dimaksudkan', 'dimaksudkannya', 'dimaksudnya', 'diminta', 'dimintai', 'dimisalkan', 'dimulai', 'dimulailah', 'dimulainya', 'dimungkinkan', 'dini', 'dipastikan', 'diperbuat', 'diperbuatnya', 'dipergunakan', 'diperkirakan', 'diperlihatkan', 'diperlukan', 'diperlukannya', 'dipersoalkan', 'dipertanyakan', 'dipunyai', 'diri', 'dirinya', 'disampaikan', 'disebut', 'disebutkan', 'disebutkannya', 'disini', 'disinilah', 'ditambahkan', 'ditandaskan', 'ditanya', 'ditanyai', 'ditanyakan', 'ditegaskan', 'ditujukan', 'ditunjuk', 'ditunjuki', 'ditunjukkan', 'ditunjukkannya', 'ditunjuknya', 'dituturkan', 'dituturkannya', 'diucapkan', 'diucapkannya', 'diungkapkan', 'dong', 'dua', 'dulu', 'empat', 'enggak', 'enggaknya', 'entah', 'entahlah', 'guna', 'gunakan', 'hal', 'hampir', 'hanya', 'hanyalah', 'hari', 'harus', 'haruslah', 'harusnya', 'hendak', 'hendaklah', 'hendaknya', 'hingga', 'ia', 'ialah', 'ibarat', 'ibaratkan', 'ibaratnya', 'ibu', 'ikut', 'ingat', 'ingat-ingat', 'ingin', 'inginkah', 'inginkan', 'ini', 'inikah', 'inilah', 'itu', 'itukah', 'itulah', 'jadi', 'jadilah', 'jadinya', 'jangan', 'jangankan', 'janganlah', 'jauh', 'jawab', 'jawaban', 'jawabnya', 'jelas', 'jelaskan', 'jelaslah', 'jelasnya', 'jika', 'jikalau', 'juga', 'jumlah', 'jumlahnya', 'justru', 'kala', 'kalau', 'kalaulah', 'kalaupun', 'kalian', 'kami', 'kamilah', 'kamu', 'kamulah', 'kan', 'kapan', 'kapankah', 'kapanpun', 'karena', 'karenanya', 'kasus', 'kata', 'katakan', 'katakanlah', 'katanya', 'ke', 'keadaan', 'kebetulan', 'kecil', 'kedua', 'keduanya', 'keinginan', 'kelamaan', 'kelihatan', 'kelihatannya', 'kelima', 'keluar', 'kembali', 'kemudian', 'kemungkinan', 'kemungkinannya', 'kenapa', 'kepada', 'kepadanya', 'kesampaian', 'keseluruhan', 'keseluruhannya', 'keterlaluan', 'ketika', 'khususnya', 'kini', 'kinilah', 'kira', 'kira-kira', 'kiranya', 'kita', 'kitalah', 'kok', 'kurang', 'lagi', 'lagian', 'lah', 'lain', 'lainnya', 'lalu', 'lama', 'lamanya', 'lanjut', 'lanjutnya', 'lebih', 'lewat', 'lima', 'luar', 'macam', 'maka', 'makanya', 'makin', 'malah', 'malahan', 'mampu', 'mampukah', 'mana', 'manakala', 'manalagi', 'masa', 'masalah', 'masalahnya', 'masih', 'masihkah', 'masing', 'masing-masing', 'mau', 'maupun', 'melainkan', 'melakukan', 'melalui', 'melihat', 'melihatnya', 'memang', 'memastikan', 'memberi', 'memberikan', 'membuat', 'memerlukan', 'memihak', 'meminta', 'memintakan', 'memisalkan', 'memperbuat', 'mempergunakan', 'memperkirakan', 'memperlihatkan', 'mempersiapkan', 'mempersoalkan', 'mempertanyakan', 'mempunyai', 'memulai', 'memungkinkan', 'menaiki', 'menambahkan', 'menandaskan', 'menanti', 'menanti-nanti', 'menantikan', 'menanya', 'menanyai', 'menanyakan', 'mendapat', 'mendapatkan', 'mendatang', 'mendatangi', 'mendatangkan', 'menegaskan', 'mengakhiri', 'mengapa', 'mengatakan', 'mengatakannya', 'mengenai', 'mengerjakan', 'mengetahui', 'menggunakan', 'menghendaki', 'mengibaratkan', 'mengibaratkannya', 'mengingat', 'mengingatkan', 'menginginkan', 'mengira', 'mengucapkan', 'mengucapkannya', 'mengungkapkan', 'menjadi', 'menjawab', 'menjelaskan', 'menuju', 'menunjuk', 'menunjuki', 'menunjukkan', 'menunjuknya', 'menurut', 'menuturkan', 'menyampaikan', 'menyangkut', 'menyatakan', 'menyebutkan', 'menyeluruh', 'menyiapkan', 'merasa', 'mereka', 'merekalah', 'merupakan', 'meski', 'meskipun', 'meyakini', 'meyakinkan', 'minta', 'mirip', 'misal', 'misalkan', 'misalnya', 'mula', 'mulai', 'mulailah', 'mulanya', 'mungkin', 'mungkinkah', 'nah', 'naik', 'namun', 'nanti', 'nantinya', 'nyaris', 'nyatanya', 'oleh', 'olehnya', 'pada', 'padahal', 'padanya', 'pak', 'paling', 'panjang', 'pantas', 'para', 'pasti', 'pastilah', 'penting', 'pentingnya', 'per', 'percuma', 'perlu', 'perlukah', 'perlunya', 'pernah', 'persoalan', 'pertama', 'pertama-tama', 'pertanyaan', 'pertanyakan', 'pihak', 'pihaknya', 'pukul', 'pula', 'pun', 'punya', 'rasa', 'rasanya', 'rata', 'rupanya', 'saat', 'saatnya', 'saja', 'sajalah', 'saling', 'sama', 'sama-sama', 'sambil', 'sampai', 'sampai-sampai', 'sampaikan', 'sana', 'sangat', 'sangatlah', 'satu', 'saya', 'sayalah', 'se', 'sebab', 'sebabnya', 'sebagai', 'sebagaimana', 'sebagainya', 'sebagian', 'sebaik', 'sebaik-baiknya', 'sebaiknya', 'sebaliknya', 'sebanyak', 'sebegini', 'sebegitu', 'sebelum', 'sebelumnya', 'sebenarnya', 'seberapa', 'sebesar', 'sebetulnya', 'sebisanya', 'sebuah', 'sebut', 'sebutlah', 'sebutnya', 'secara', 'secukupnya', 'sedang', 'sedangkan', 'sedemikian', 'sedikit', 'sedikitnya', 'seenaknya', 'segala', 'segalanya', 'segera', 'seharusnya', 'sehingga', 'seingat', 'sejak', 'sejauh', 'sejenak', 'sejumlah', 'sekadar', 'sekadarnya', 'sekali', 'sekali-kali', 'sekalian', 'sekaligus', 'sekalipun', 'sekarang', 'sekarang', 'sekecil', 'seketika', 'sekiranya', 'sekitar', 'sekitarnya', 'sekurang-kurangnya', 'sekurangnya', 'sela', 'selain', 'selaku', 'selalu', 'selama', 'selama-lamanya', 'selamanya', 'selanjutnya', 'seluruh', 'seluruhnya', 'semacam', 'semakin', 'semampu', 'semampunya', 'semasa', 'semasih', 'semata', 'semata-mata', 'semaunya', 'sementara', 'semisal', 'semisalnya', 'sempat', 'semua', 'semuanya', 'semula', 'sendiri', 'sendirian', 'sendirinya', 'seolah', 'seolah-olah', 'seorang', 'sepanjang', 'sepantasnya', 'sepantasnyalah', 'seperlunya', 'seperti', 'sepertinya', 'sepihak', 'sering', 'seringnya', 'serta', 'serupa', 'sesaat', 'sesama', 'sesampai', 'sesegera', 'sesekali', 'seseorang', 'sesuatu', 'sesuatunya', 'sesudah', 'sesudahnya', 'setelah', 'setempat', 'setengah', 'seterusnya', 'setiap', 'setiba', 'setibanya', 'setidak-tidaknya', 'setidaknya', 'setinggi', 'seusai', 'sewaktu', 'siap', 'siapa', 'siapakah', 'siapapun', 'sini', 'sinilah', 'soal', 'soalnya', 'suatu', 'sudah', 'sudahkah', 'sudahlah', 'supaya', 'tadi', 'tadinya', 'tahu', 'tahun', 'tak', 'tambah', 'tambahnya', 'tampak', 'tampaknya', 'tandas', 'tandasnya', 'tanpa', 'tanya', 'tanyakan', 'tanyanya', 'tapi', 'tegas', 'tegasnya', 'telah', 'tempat', 'tengah', 'tentang', 'tentu', 'tentulah', 'tentunya', 'tepat', 'terakhir', 'terasa', 'terbanyak', 'terdahulu', 'terdapat', 'terdiri', 'terhadap', 'terhadapnya', 'teringat', 'teringat-ingat', 'terjadi', 'terjadilah', 'terjadinya', 'terkira', 'terlalu', 'terlebih', 'terlihat', 'termasuk', 'ternyata', 'tersampaikan', 'tersebut', 'tersebutlah', 'tertentu', 'tertuju', 'terus', 'terutama', 'tetap', 'tetapi', 'tiap', 'tiba', 'tiba-tiba', 'tidak', 'tidakkah', 'tidaklah', 'tiga', 'tinggi', 'toh', 'tunjuk', 'turut', 'tutur', 'tuturnya', 'ucap', 'ucapnya', 'ujar', 'ujarnya', 'umum', 'umumnya', 'ungkap', 'ungkapnya', 'untuk', 'usah', 'usai', 'waduh', 'wah', 'wahai', 'waktu', 'waktunya', 'walau', 'walaupun', 'wong', 'yaitu', 'yakin', 'yakni', 'yang']\n"
     ]
    }
   ],
   "source": [
    "# stopwords in indonesia\n",
    "indonesian_stop = stopwords.words('indonesian')\n",
    "print(len(indonesian_stop), \"stopwords in Indonesia:\\n\", indonesian_stop)"
   ]
  },
  {
   "cell_type": "markdown",
   "metadata": {},
   "source": [
    "#### Comparsion of before and after implementing stopwords"
   ]
  },
  {
   "cell_type": "code",
   "execution_count": 16,
   "metadata": {
    "tags": []
   },
   "outputs": [
    {
     "name": "stdout",
     "output_type": "stream",
     "text": [
      "[['makhluk', 'hidup', 'adalah', 'objek', 'kajian', 'utama', 'dalam', 'bidang', 'biologi'], ['biologi', 'seluler', 'cabang', 'biologi', 'yang', 'mempelajari', 'struktur', 'dan', 'fungsi', 'sel', 'dalam', 'makhluk', 'hidup'], ['apa', 'saja', 'jenis', 'sel', 'yang', 'ada', 'pada', 'makhluk', 'hidup'], ['sel', 'merupakan', 'istilah', 'biologi', 'untuk', 'unit', 'dasar', 'dari', 'kehidupan'], ['inti', 'sel', 'mengandung', 'materi', 'genetik', 'dalam', 'bentuk', 'dna'], ['gen', 'adalah', 'instruksi', 'yang', 'disimpan', 'dalam', 'dna', 'suatu', 'sel'], ['mengapa', 'sel', 'disebut', 'sebagai', 'unit', 'terkecil', 'yang', 'menyusun', 'tubuh', 'makhluk', 'hidup'], ['dalam', 'biologi', 'perkembangan', 'diferensiasi', 'sel', 'adalah', 'proses', 'di', 'mana', 'sel', 'mengembangkan', 'fungsi', 'spesifik'], ['makhluk', 'hidup', 'uniseluler', 'adalah', 'makhluk', 'hidup', 'yang', 'hanya', 'memilki', 'sebuah', 'sel', 'tunggal', 'sedangkan', 'multiseluler', 'adalah', 'makhluk', 'hidup', 'atau', 'organisme', 'yang', 'memiliki', 'lebih', 'dari', 'satu', 'sel'], ['biokimia', 'adalah', 'cabang', 'biologi', 'yang', 'mempelajari', 'kimia', 'dasar', 'dalam', 'kehidupan', 'makhluk', 'hidup'], ['mengapa', 'studi', 'tentang', 'biologi', 'dapat', 'membantu', 'kita', 'memahami', 'cara', 'kerja', 'berbagai', 'sistem', 'dalam', 'makhluk', 'hidup'], ['evolusi', 'adalah', 'proses', 'utama', 'dalam', 'biologi', 'yang', 'menjelaskan', 'perubahan', 'dalam', 'populasi', 'makhluk', 'hidup', 'dari', 'waktu', 'ke', 'waktu'], ['proses', 'evolusi', 'telah', 'membentuk', 'beragamnya', 'jenis', 'sel', 'yang', 'ada', 'di', 'dunia', 'ini'], ['evolusi', 'sel', 'telah', 'menghasilkan', 'organel', 'kompleks', 'seperti', 'mitokondria', 'dan', 'kloroplas'], ['penelitian', 'terbaru', 'menunjukkan', 'bahwa', 'evolusi', 'sel', 'terus', 'berlanjut', 'dalam', 'respons', 'terhadap', 'tekanan', 'seleksi', 'dan', 'lingkungan', 'yang', 'berubah']]\n"
     ]
    }
   ],
   "source": [
    "print(split_words, sep=', ')"
   ]
  },
  {
   "cell_type": "code",
   "execution_count": 17,
   "metadata": {
    "colab": {
     "base_uri": "https://localhost:8080/"
    },
    "id": "kBJ9bzDSbz3q",
    "outputId": "ed518aa9-26c4-4ca7-baf3-e28f519c0567",
    "tags": []
   },
   "outputs": [
    {
     "name": "stdout",
     "output_type": "stream",
     "text": [
      "[['makhluk', 'hidup', 'objek', 'kajian', 'utama', 'bidang', 'biologi'], ['biologi', 'seluler', 'cabang', 'biologi', 'mempelajari', 'struktur', 'fungsi', 'sel', 'makhluk', 'hidup'], ['jenis', 'sel', 'makhluk', 'hidup'], ['sel', 'istilah', 'biologi', 'unit', 'dasar', 'kehidupan'], ['inti', 'sel', 'mengandung', 'materi', 'genetik', 'bentuk', 'dna'], ['gen', 'instruksi', 'disimpan', 'dna', 'sel'], ['sel', 'unit', 'terkecil', 'menyusun', 'tubuh', 'makhluk', 'hidup'], ['biologi', 'perkembangan', 'diferensiasi', 'sel', 'proses', 'sel', 'mengembangkan', 'fungsi', 'spesifik'], ['makhluk', 'hidup', 'uniseluler', 'makhluk', 'hidup', 'memilki', 'sel', 'tunggal', 'multiseluler', 'makhluk', 'hidup', 'organisme', 'memiliki', 'sel'], ['biokimia', 'cabang', 'biologi', 'mempelajari', 'kimia', 'dasar', 'kehidupan', 'makhluk', 'hidup'], ['studi', 'biologi', 'membantu', 'memahami', 'kerja', 'sistem', 'makhluk', 'hidup'], ['evolusi', 'proses', 'utama', 'biologi', 'perubahan', 'populasi', 'makhluk', 'hidup'], ['proses', 'evolusi', 'membentuk', 'beragamnya', 'jenis', 'sel', 'dunia'], ['evolusi', 'sel', 'menghasilkan', 'organel', 'kompleks', 'mitokondria', 'kloroplas'], ['penelitian', 'terbaru', 'evolusi', 'sel', 'berlanjut', 'respons', 'tekanan', 'seleksi', 'lingkungan', 'berubah']]\n"
     ]
    }
   ],
   "source": [
    "split_stop = []\n",
    "for index, words in enumerate(split_words):\n",
    "    wordsFiltered = [w for w in words if w not in indonesian_stop]\n",
    "    split_stop.append(wordsFiltered)\n",
    "print(split_stop)"
   ]
  },
  {
   "cell_type": "markdown",
   "metadata": {
    "id": "-dUIwG5dcdKX"
   },
   "source": [
    "## Stemming\n",
    "This process has a purpose to find the root word of each word"
   ]
  },
  {
   "cell_type": "code",
   "execution_count": 18,
   "metadata": {
    "id": "xLBo0D05cc75",
    "tags": []
   },
   "outputs": [],
   "source": [
    "factory = StemmerFactory()\n",
    "stemmer = factory.create_stemmer()"
   ]
  },
  {
   "cell_type": "code",
   "execution_count": 19,
   "metadata": {
    "colab": {
     "base_uri": "https://localhost:8080/",
     "height": 677
    },
    "id": "_K6zWKrefDSf",
    "outputId": "99768984-9ff2-49ad-f13c-712b6e4e582f",
    "tags": []
   },
   "outputs": [
    {
     "data": {
      "text/html": [
       "<div>\n",
       "<style scoped>\n",
       "    .dataframe tbody tr th:only-of-type {\n",
       "        vertical-align: middle;\n",
       "    }\n",
       "\n",
       "    .dataframe tbody tr th {\n",
       "        vertical-align: top;\n",
       "    }\n",
       "\n",
       "    .dataframe thead th {\n",
       "        text-align: right;\n",
       "    }\n",
       "</style>\n",
       "<table border=\"1\" class=\"dataframe\">\n",
       "  <thead>\n",
       "    <tr style=\"text-align: right;\">\n",
       "      <th></th>\n",
       "      <th>nomor</th>\n",
       "      <th>parameter</th>\n",
       "      <th>kata</th>\n",
       "    </tr>\n",
       "  </thead>\n",
       "  <tbody>\n",
       "    <tr>\n",
       "      <th>0</th>\n",
       "      <td>0</td>\n",
       "      <td>0</td>\n",
       "      <td>makhluk</td>\n",
       "    </tr>\n",
       "    <tr>\n",
       "      <th>1</th>\n",
       "      <td>0</td>\n",
       "      <td>1</td>\n",
       "      <td>hidup</td>\n",
       "    </tr>\n",
       "    <tr>\n",
       "      <th>2</th>\n",
       "      <td>0</td>\n",
       "      <td>2</td>\n",
       "      <td>objek</td>\n",
       "    </tr>\n",
       "    <tr>\n",
       "      <th>3</th>\n",
       "      <td>0</td>\n",
       "      <td>3</td>\n",
       "      <td>kaji</td>\n",
       "    </tr>\n",
       "    <tr>\n",
       "      <th>4</th>\n",
       "      <td>0</td>\n",
       "      <td>4</td>\n",
       "      <td>utama</td>\n",
       "    </tr>\n",
       "    <tr>\n",
       "      <th>5</th>\n",
       "      <td>0</td>\n",
       "      <td>5</td>\n",
       "      <td>bidang</td>\n",
       "    </tr>\n",
       "    <tr>\n",
       "      <th>6</th>\n",
       "      <td>0</td>\n",
       "      <td>6</td>\n",
       "      <td>biologi</td>\n",
       "    </tr>\n",
       "    <tr>\n",
       "      <th>7</th>\n",
       "      <td>1</td>\n",
       "      <td>0</td>\n",
       "      <td>biologi</td>\n",
       "    </tr>\n",
       "    <tr>\n",
       "      <th>8</th>\n",
       "      <td>1</td>\n",
       "      <td>1</td>\n",
       "      <td>seluler</td>\n",
       "    </tr>\n",
       "    <tr>\n",
       "      <th>9</th>\n",
       "      <td>1</td>\n",
       "      <td>2</td>\n",
       "      <td>cabang</td>\n",
       "    </tr>\n",
       "  </tbody>\n",
       "</table>\n",
       "</div>"
      ],
      "text/plain": [
       "   nomor  parameter     kata\n",
       "0      0          0  makhluk\n",
       "1      0          1    hidup\n",
       "2      0          2    objek\n",
       "3      0          3     kaji\n",
       "4      0          4    utama\n",
       "5      0          5   bidang\n",
       "6      0          6  biologi\n",
       "7      1          0  biologi\n",
       "8      1          1  seluler\n",
       "9      1          2   cabang"
      ]
     },
     "execution_count": 19,
     "metadata": {},
     "output_type": "execute_result"
    }
   ],
   "source": [
    "dic_stem = {\"nomor\":[], \"parameter\":[], \"kata\":[]}\n",
    "list_index = []\n",
    "list_param = []\n",
    "list_stem = []\n",
    "for index, stop in enumerate(split_stop):\n",
    "    for parameter, kata in enumerate(stop):\n",
    "        stemword = stemmer.stem(kata)\n",
    "        dic_stem[\"nomor\"].append(index)\n",
    "        dic_stem[\"parameter\"].append(parameter)\n",
    "        dic_stem[\"kata\"].append(stemword)\n",
    "# dic_stem\n",
    "word_stemmed = pd.DataFrame(dic_stem)\n",
    "word_stemmed.head(10)"
   ]
  },
  {
   "cell_type": "code",
   "execution_count": 20,
   "metadata": {
    "colab": {
     "base_uri": "https://localhost:8080/"
    },
    "id": "gE4KzODhdIGK",
    "outputId": "85a41842-f4b8-4ddf-c821-b26c297c2d44",
    "tags": []
   },
   "outputs": [
    {
     "name": "stdout",
     "output_type": "stream",
     "text": [
      "['makhluk hidup objek kaji utama bidang biologi', 'biologi seluler cabang biologi ajar struktur fungsi sel makhluk hidup', 'jenis sel makhluk hidup', 'sel istilah biologi unit dasar hidup', 'inti sel kandung materi genetik bentuk dna', 'gen instruksi simpan dna sel', 'sel unit kecil susun tubuh makhluk hidup', 'biologi kembang diferensiasi sel proses sel kembang fungsi spesifik', 'makhluk hidup uniseluler makhluk hidup memilki sel tunggal multiseluler makhluk hidup organisme milik sel', 'biokimia cabang biologi ajar kimia dasar hidup makhluk hidup', 'studi biologi bantu paham kerja sistem makhluk hidup', 'evolusi proses utama biologi ubah populasi makhluk hidup', 'proses evolusi bentuk agam jenis sel dunia', 'evolusi sel hasil organel kompleks mitokondria kloroplas', 'teliti baru evolusi sel lanjut respons tekan seleksi lingkung ubah']\n"
     ]
    }
   ],
   "source": [
    "stembeneran = []\n",
    "for index in range(0,15) :\n",
    "    var = ' '.join(word_stemmed[word_stemmed.nomor == index].kata)\n",
    "    stembeneran.append(var)\n",
    "print(stembeneran, sep=', ')"
   ]
  },
  {
   "cell_type": "markdown",
   "metadata": {},
   "source": [
    "### Transform the clean dataset dan export it into csv"
   ]
  },
  {
   "cell_type": "code",
   "execution_count": 21,
   "metadata": {
    "tags": []
   },
   "outputs": [],
   "source": [
    "clean_dataset = pd.DataFrame(stembeneran)\n",
    "clean_dataset = clean_dataset.rename(columns={0: 'teks'})"
   ]
  },
  {
   "cell_type": "code",
   "execution_count": 22,
   "metadata": {
    "tags": []
   },
   "outputs": [
    {
     "data": {
      "text/html": [
       "<div>\n",
       "<style scoped>\n",
       "    .dataframe tbody tr th:only-of-type {\n",
       "        vertical-align: middle;\n",
       "    }\n",
       "\n",
       "    .dataframe tbody tr th {\n",
       "        vertical-align: top;\n",
       "    }\n",
       "\n",
       "    .dataframe thead th {\n",
       "        text-align: right;\n",
       "    }\n",
       "</style>\n",
       "<table border=\"1\" class=\"dataframe\">\n",
       "  <thead>\n",
       "    <tr style=\"text-align: right;\">\n",
       "      <th></th>\n",
       "      <th>teks</th>\n",
       "    </tr>\n",
       "  </thead>\n",
       "  <tbody>\n",
       "    <tr>\n",
       "      <th>0</th>\n",
       "      <td>makhluk hidup objek kaji utama bidang biologi</td>\n",
       "    </tr>\n",
       "    <tr>\n",
       "      <th>1</th>\n",
       "      <td>biologi seluler cabang biologi ajar struktur fungsi sel makhluk hidup</td>\n",
       "    </tr>\n",
       "    <tr>\n",
       "      <th>2</th>\n",
       "      <td>jenis sel makhluk hidup</td>\n",
       "    </tr>\n",
       "    <tr>\n",
       "      <th>3</th>\n",
       "      <td>sel istilah biologi unit dasar hidup</td>\n",
       "    </tr>\n",
       "    <tr>\n",
       "      <th>4</th>\n",
       "      <td>inti sel kandung materi genetik bentuk dna</td>\n",
       "    </tr>\n",
       "    <tr>\n",
       "      <th>5</th>\n",
       "      <td>gen instruksi simpan dna sel</td>\n",
       "    </tr>\n",
       "    <tr>\n",
       "      <th>6</th>\n",
       "      <td>sel unit kecil susun tubuh makhluk hidup</td>\n",
       "    </tr>\n",
       "    <tr>\n",
       "      <th>7</th>\n",
       "      <td>biologi kembang diferensiasi sel proses sel kembang fungsi spesifik</td>\n",
       "    </tr>\n",
       "    <tr>\n",
       "      <th>8</th>\n",
       "      <td>makhluk hidup uniseluler makhluk hidup memilki sel tunggal multiseluler makhluk hidup organisme milik sel</td>\n",
       "    </tr>\n",
       "    <tr>\n",
       "      <th>9</th>\n",
       "      <td>biokimia cabang biologi ajar kimia dasar hidup makhluk hidup</td>\n",
       "    </tr>\n",
       "    <tr>\n",
       "      <th>10</th>\n",
       "      <td>studi biologi bantu paham kerja sistem makhluk hidup</td>\n",
       "    </tr>\n",
       "    <tr>\n",
       "      <th>11</th>\n",
       "      <td>evolusi proses utama biologi ubah populasi makhluk hidup</td>\n",
       "    </tr>\n",
       "    <tr>\n",
       "      <th>12</th>\n",
       "      <td>proses evolusi bentuk agam jenis sel dunia</td>\n",
       "    </tr>\n",
       "    <tr>\n",
       "      <th>13</th>\n",
       "      <td>evolusi sel hasil organel kompleks mitokondria kloroplas</td>\n",
       "    </tr>\n",
       "    <tr>\n",
       "      <th>14</th>\n",
       "      <td>teliti baru evolusi sel lanjut respons tekan seleksi lingkung ubah</td>\n",
       "    </tr>\n",
       "  </tbody>\n",
       "</table>\n",
       "</div>"
      ],
      "text/plain": [
       "                                                                                                         teks\n",
       "0                                                               makhluk hidup objek kaji utama bidang biologi\n",
       "1                                       biologi seluler cabang biologi ajar struktur fungsi sel makhluk hidup\n",
       "2                                                                                     jenis sel makhluk hidup\n",
       "3                                                                        sel istilah biologi unit dasar hidup\n",
       "4                                                                  inti sel kandung materi genetik bentuk dna\n",
       "5                                                                                gen instruksi simpan dna sel\n",
       "6                                                                    sel unit kecil susun tubuh makhluk hidup\n",
       "7                                         biologi kembang diferensiasi sel proses sel kembang fungsi spesifik\n",
       "8   makhluk hidup uniseluler makhluk hidup memilki sel tunggal multiseluler makhluk hidup organisme milik sel\n",
       "9                                                biokimia cabang biologi ajar kimia dasar hidup makhluk hidup\n",
       "10                                                       studi biologi bantu paham kerja sistem makhluk hidup\n",
       "11                                                   evolusi proses utama biologi ubah populasi makhluk hidup\n",
       "12                                                                 proses evolusi bentuk agam jenis sel dunia\n",
       "13                                                   evolusi sel hasil organel kompleks mitokondria kloroplas\n",
       "14                                         teliti baru evolusi sel lanjut respons tekan seleksi lingkung ubah"
      ]
     },
     "execution_count": 22,
     "metadata": {},
     "output_type": "execute_result"
    }
   ],
   "source": [
    "clean_dataset"
   ]
  },
  {
   "cell_type": "code",
   "execution_count": 23,
   "metadata": {
    "tags": []
   },
   "outputs": [],
   "source": [
    "clean_dataset.to_csv('clean-corpus-indonesia.csv')"
   ]
  }
 ],
 "metadata": {
  "colab": {
   "provenance": []
  },
  "kernelspec": {
   "display_name": "Python 3 (ipykernel)",
   "language": "python",
   "name": "python3"
  },
  "language_info": {
   "codemirror_mode": {
    "name": "ipython",
    "version": 3
   },
   "file_extension": ".py",
   "mimetype": "text/x-python",
   "name": "python",
   "nbconvert_exporter": "python",
   "pygments_lexer": "ipython3",
   "version": "3.11.4"
  }
 },
 "nbformat": 4,
 "nbformat_minor": 4
}
